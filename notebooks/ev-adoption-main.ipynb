{
 "cells": [
  {
   "cell_type": "markdown",
   "id": "e0bda6fb-f54f-4349-9781-ea9b1e5d7122",
   "metadata": {},
   "source": [
    "<img src=\"https://user-images.githubusercontent.com/23629340/40541063-a07a0a8a-601a-11e8-91b5-2f13e4e6b441.png\" alt=\"logo_ironhack_blue 7\" width=\"100\" height=\"100\">\n",
    "\n",
    "# Ironhack Mid-Bootcamp Project\n",
    "\n",
    "## Project Overview\n",
    "\n",
    "Electric Vehicles (EVs) have been around for a couple decades, but its adoption has really picked up in the last 3 years. In this project we will analyze the increasing demand of EVs and who's leading it, figure out in which stage of adoption we are (according to Everett M. Rogger's [*Diffusion of Innovation Theory*](https://en.wikipedia.org/wiki/Diffusion_of_innovations)) and try to estimate how long will it take for the all car transportation to become electric by finding the EV adoption curve.\n",
    "\n",
    "According to Rogers, when analyzing the adoption of an innovation, the population penetration follows a **normal distribution**, therefore the market share curve will follow its **cumulative distribution function**.\n",
    "<div align=\"center\">\n",
    "<img src=\"http://steveboese.squarespace.com/storage/adoption_of_tech_no_title.jpg?__SQUARESPACE_CACHEVERSION=1450230149150\" alt=\"Adoption curve examples\" width=\"500\">\n",
    "<img src=\"https://i0.wp.com/ondigitalmarketing.com/wp-content/uploads/2012/01/640px-Diffusionofideas.png?ssl=1\" alt=\"Adoption curve\" width=\"500\">\n",
    "</div>\n",
    "\n",
    "\n",
    "\n",
    "## Objective\n",
    "The objective if this project is to answer the following questions:\n",
    "1. What trend (linear, cuadratic, exponential...) is EV adoption currently following?\n",
    "2. What is the current stage of Electric Vehicle (EV) adoption? Are we in the phase of Innovators, Early adopters, Early majority, Late majority, or Laggards?\n",
    "4. Which countries are leading the adoption of EVs? And lagging in the adoption?\n",
    "5. Which countries are adopting EV's faster (rate of adoption)?\n",
    "6. How long will full EV adoption take?\n",
    "\n",
    "Extra:\n",
    "1. Which companies are leading the transition from ICE (Internal Combustion Engine) vehicles to EVs?\n",
    "2. Compare the adoption of electric cars to other vehicles (trucks, vans and buses)\n",
    "\n",
    "### Finding the EV adoption curve:\n",
    "+ Assuming our datapoints follow a normal distribution, our sales share data points correspond to x values in the Cumulative Distribution Function:\n",
    "    + $CDF = \\Phi(x) = 0.5 * [1 + \\frac{erf((x - \\mu)}{(\\sigma * \\sqrt{2}))}]$ where μ is the mean, σ is the standard deviation, and erf() is the error function. We want to find μ and σ so that this equation holds for all of our points. This leads to a system of n nonlinear equations.\n",
    "    + Using scipy's least squares solver we will solve μ & σ for the given dataset. With this curve we will be able to predict the rate of adoption of EVs worldwide.\n",
    "\n",
    "## Datasets\n",
    "\n",
    "+ 2010-2022 Global data on EV sales -> [Global EV Data Explorer](https://www.iea.org/data-and-statistics/data-tools/global-ev-data-explorer)\n",
    "+ 2010-2022 Global data on car sales -> [Global Passenger Car Sales](https://www.iea.org/data-and-statistics/charts/passenger-car-sales-2010-2022)\n",
    "+ Historical data on company sales and sales share:\n",
    "    + [Best Selling Cars](https://www.best-selling-cars.com/brands/2021-full-year-global-volkswagen-brand-worldwide-car-sales-by-model-and-country/)\n",
    "    + [Toyota](https://global.toyota/en/newsroom/corporate/20966057.html)\n",
    "    + [EV Adoption](https://evadoption.com/ev-sales/evs-percent-of-vehicle-sales-by-brand/)"
   ]
  },
  {
   "cell_type": "markdown",
   "id": "cf009bea-4bad-4be6-b6ac-3e8cc2b1303d",
   "metadata": {},
   "source": [
    "# 1 Load libraries"
   ]
  },
  {
   "cell_type": "code",
   "execution_count": 1,
   "id": "b07b155f-08b8-4ed8-80b4-595d67956014",
   "metadata": {},
   "outputs": [],
   "source": [
    "import numpy as np\n",
    "import pandas as pd\n",
    "import seaborn as sns\n",
    "import matplotlib.pyplot as plt\n",
    "import plotly.io as pio\n",
    "import plotly.express as px\n",
    "import plotly.graph_objects as go\n",
    "from scipy.stats import norm\n",
    "from scipy.optimize import curve_fit\n",
    "from scipy import special\n",
    "from scipy.optimize import least_squares\n",
    "\n",
    "pio.renderers.default = 'iframe' # set iframe renderer to render plotly charts"
   ]
  },
  {
   "cell_type": "markdown",
   "id": "924963d2-b834-432d-b3ec-ca54433aa946",
   "metadata": {},
   "source": [
    "# 2 Data Cleaning"
   ]
  },
  {
   "cell_type": "markdown",
   "id": "cfd94c21-c849-40ab-bd31-ad9ffea51712",
   "metadata": {},
   "source": [
    "## 2.1 Load & Save Raw Data"
   ]
  },
  {
   "cell_type": "code",
   "execution_count": 2,
   "id": "cae19ff6-0a46-4f03-ac5b-eb3d23756e97",
   "metadata": {},
   "outputs": [
    {
     "data": {
      "text/html": [
       "<div>\n",
       "<style scoped>\n",
       "    .dataframe tbody tr th:only-of-type {\n",
       "        vertical-align: middle;\n",
       "    }\n",
       "\n",
       "    .dataframe tbody tr th {\n",
       "        vertical-align: top;\n",
       "    }\n",
       "\n",
       "    .dataframe thead th {\n",
       "        text-align: right;\n",
       "    }\n",
       "</style>\n",
       "<table border=\"1\" class=\"dataframe\">\n",
       "  <thead>\n",
       "    <tr style=\"text-align: right;\">\n",
       "      <th></th>\n",
       "      <th>year</th>\n",
       "      <th>value</th>\n",
       "    </tr>\n",
       "  </thead>\n",
       "  <tbody>\n",
       "    <tr>\n",
       "      <th>0</th>\n",
       "      <td>2010</td>\n",
       "      <td>66700000</td>\n",
       "    </tr>\n",
       "    <tr>\n",
       "      <th>1</th>\n",
       "      <td>2011</td>\n",
       "      <td>71200000</td>\n",
       "    </tr>\n",
       "    <tr>\n",
       "      <th>2</th>\n",
       "      <td>2012</td>\n",
       "      <td>73800000</td>\n",
       "    </tr>\n",
       "    <tr>\n",
       "      <th>3</th>\n",
       "      <td>2013</td>\n",
       "      <td>77500000</td>\n",
       "    </tr>\n",
       "    <tr>\n",
       "      <th>4</th>\n",
       "      <td>2014</td>\n",
       "      <td>80000000</td>\n",
       "    </tr>\n",
       "  </tbody>\n",
       "</table>\n",
       "</div>"
      ],
      "text/plain": [
       "   year     value\n",
       "0  2010  66700000\n",
       "1  2011  71200000\n",
       "2  2012  73800000\n",
       "3  2013  77500000\n",
       "4  2014  80000000"
      ]
     },
     "execution_count": 2,
     "metadata": {},
     "output_type": "execute_result"
    }
   ],
   "source": [
    "# Global car sales extracted manually from Internation Energy Agency (IEA) website\n",
    "car_sales = {'year':[2010, 2011, 2012, 2013, 2014, 2015, 2016, 2017, 2018, 2019, 2020, 2021, 2022],\n",
    "             'value': [66700000,71200000,73800000,77500000,80000000,81800000,86400000,86300000,85600000,81300000,71800000,74900000,74800000]}\n",
    "\n",
    "# Convert dictionary into Pandas Dataframe\n",
    "car_sales_df = pd.DataFrame(car_sales)\n",
    "\n",
    "# Save raw data as .csv\n",
    "car_sales_df.to_csv('../data/raw_data/car_sales_raw.csv',index = False, sep=\",\")\n",
    "\n",
    "# Show data\n",
    "car_sales_df.head()"
   ]
  },
  {
   "cell_type": "code",
   "execution_count": 3,
   "id": "e5bd8660-fc71-4123-a1cd-9638fba30d08",
   "metadata": {},
   "outputs": [
    {
     "data": {
      "text/html": [
       "<div>\n",
       "<style scoped>\n",
       "    .dataframe tbody tr th:only-of-type {\n",
       "        vertical-align: middle;\n",
       "    }\n",
       "\n",
       "    .dataframe tbody tr th {\n",
       "        vertical-align: top;\n",
       "    }\n",
       "\n",
       "    .dataframe thead th {\n",
       "        text-align: right;\n",
       "    }\n",
       "</style>\n",
       "<table border=\"1\" class=\"dataframe\">\n",
       "  <thead>\n",
       "    <tr style=\"text-align: right;\">\n",
       "      <th></th>\n",
       "      <th>region</th>\n",
       "      <th>category</th>\n",
       "      <th>parameter</th>\n",
       "      <th>mode</th>\n",
       "      <th>powertrain</th>\n",
       "      <th>year</th>\n",
       "      <th>unit</th>\n",
       "      <th>value</th>\n",
       "    </tr>\n",
       "  </thead>\n",
       "  <tbody>\n",
       "    <tr>\n",
       "      <th>0</th>\n",
       "      <td>Australia</td>\n",
       "      <td>Historical</td>\n",
       "      <td>EV sales</td>\n",
       "      <td>Cars</td>\n",
       "      <td>BEV</td>\n",
       "      <td>2011</td>\n",
       "      <td>Vehicles</td>\n",
       "      <td>49</td>\n",
       "    </tr>\n",
       "    <tr>\n",
       "      <th>1</th>\n",
       "      <td>Australia</td>\n",
       "      <td>Historical</td>\n",
       "      <td>EV sales</td>\n",
       "      <td>Cars</td>\n",
       "      <td>BEV</td>\n",
       "      <td>2012</td>\n",
       "      <td>Vehicles</td>\n",
       "      <td>170</td>\n",
       "    </tr>\n",
       "    <tr>\n",
       "      <th>2</th>\n",
       "      <td>Australia</td>\n",
       "      <td>Historical</td>\n",
       "      <td>EV sales</td>\n",
       "      <td>Cars</td>\n",
       "      <td>PHEV</td>\n",
       "      <td>2012</td>\n",
       "      <td>Vehicles</td>\n",
       "      <td>80</td>\n",
       "    </tr>\n",
       "    <tr>\n",
       "      <th>3</th>\n",
       "      <td>Australia</td>\n",
       "      <td>Historical</td>\n",
       "      <td>EV sales</td>\n",
       "      <td>Cars</td>\n",
       "      <td>PHEV</td>\n",
       "      <td>2013</td>\n",
       "      <td>Vehicles</td>\n",
       "      <td>100</td>\n",
       "    </tr>\n",
       "    <tr>\n",
       "      <th>4</th>\n",
       "      <td>Australia</td>\n",
       "      <td>Historical</td>\n",
       "      <td>EV sales</td>\n",
       "      <td>Cars</td>\n",
       "      <td>BEV</td>\n",
       "      <td>2013</td>\n",
       "      <td>Vehicles</td>\n",
       "      <td>190</td>\n",
       "    </tr>\n",
       "  </tbody>\n",
       "</table>\n",
       "</div>"
      ],
      "text/plain": [
       "      region    category parameter  mode powertrain  year      unit  value\n",
       "0  Australia  Historical  EV sales  Cars        BEV  2011  Vehicles     49\n",
       "1  Australia  Historical  EV sales  Cars        BEV  2012  Vehicles    170\n",
       "2  Australia  Historical  EV sales  Cars       PHEV  2012  Vehicles     80\n",
       "3  Australia  Historical  EV sales  Cars       PHEV  2013  Vehicles    100\n",
       "4  Australia  Historical  EV sales  Cars        BEV  2013  Vehicles    190"
      ]
     },
     "metadata": {},
     "output_type": "display_data"
    },
    {
     "data": {
      "text/plain": [
       "(834, 8)"
      ]
     },
     "metadata": {},
     "output_type": "display_data"
    }
   ],
   "source": [
    "# IEA Global EV Data Explorer API url\n",
    "api_url = 'https://api.iea.org/evs/?parameter=EV%20sales&mode=Cars&category=Historical&csv=true'\n",
    "\n",
    "# Download data from IEA website\n",
    "ev_sales_df = pd.read_csv(api_url)\n",
    "\n",
    "# Save raw data as .csv\n",
    "ev_sales_df.to_csv('../data/raw_data/ev_sales_raw.csv',index = False, sep=\",\")\n",
    "\n",
    "# Show data & shape\n",
    "display(ev_sales_df.head())\n",
    "display(ev_sales_df.shape)"
   ]
  },
  {
   "cell_type": "markdown",
   "id": "c568b65d-145c-4f56-be4d-e2b984cbb688",
   "metadata": {},
   "source": [
    "## 2.2 Explore Data\n",
    "In this initial data exploration we will explore the ev_sales dataset:\n",
    "+ study which columns will be useful\n",
    "+ check for any missing data points\n",
    "  \n",
    "car_sales has been extracted manually. There is one value for each year and no missing year values."
   ]
  },
  {
   "cell_type": "code",
   "execution_count": 4,
   "id": "a4c6c025-83f9-477d-bab5-ea0660570b3e",
   "metadata": {},
   "outputs": [
    {
     "data": {
      "text/plain": [
       "region\n",
       "World                26\n",
       "Belgium              26\n",
       "United Kingdom       26\n",
       "China                26\n",
       "EU27                 26\n",
       "Europe               26\n",
       "Germany              25\n",
       "USA                  25\n",
       "Spain                25\n",
       "Poland               25\n",
       "New Zealand          25\n",
       "Netherlands          25\n",
       "Japan                25\n",
       "France               25\n",
       "Norway               24\n",
       "Canada               24\n",
       "Switzerland          24\n",
       "Sweden               24\n",
       "Denmark              24\n",
       "Other Europe         23\n",
       "Rest of the world    23\n",
       "Portugal             23\n",
       "Australia            23\n",
       "Finland              23\n",
       "Italy                23\n",
       "Israel               23\n",
       "Iceland              22\n",
       "Korea                21\n",
       "Chile                21\n",
       "Brazil               21\n",
       "Mexico               20\n",
       "Turkiye              20\n",
       "South Africa         19\n",
       "Austria              18\n",
       "Greece               18\n",
       "India                17\n",
       "Name: count, dtype: int64"
      ]
     },
     "metadata": {},
     "output_type": "display_data"
    },
    {
     "data": {
      "text/plain": [
       "category\n",
       "Historical    834\n",
       "Name: count, dtype: int64"
      ]
     },
     "metadata": {},
     "output_type": "display_data"
    },
    {
     "data": {
      "text/plain": [
       "parameter\n",
       "EV sales    834\n",
       "Name: count, dtype: int64"
      ]
     },
     "metadata": {},
     "output_type": "display_data"
    },
    {
     "data": {
      "text/plain": [
       "mode\n",
       "Cars    834\n",
       "Name: count, dtype: int64"
      ]
     },
     "metadata": {},
     "output_type": "display_data"
    },
    {
     "data": {
      "text/plain": [
       "powertrain\n",
       "BEV     443\n",
       "PHEV    391\n",
       "Name: count, dtype: int64"
      ]
     },
     "metadata": {},
     "output_type": "display_data"
    },
    {
     "data": {
      "text/plain": [
       "year\n",
       "2019    72\n",
       "2020    72\n",
       "2021    72\n",
       "2022    72\n",
       "2015    71\n",
       "2016    71\n",
       "2017    71\n",
       "2018    71\n",
       "2014    66\n",
       "2013    63\n",
       "2012    59\n",
       "2011    46\n",
       "2010    28\n",
       "Name: count, dtype: int64"
      ]
     },
     "metadata": {},
     "output_type": "display_data"
    },
    {
     "data": {
      "text/plain": [
       "unit\n",
       "Vehicles    834\n",
       "Name: count, dtype: int64"
      ]
     },
     "metadata": {},
     "output_type": "display_data"
    },
    {
     "data": {
      "text/plain": [
       "value\n",
       "1200       12\n",
       "16000      11\n",
       "15000      11\n",
       "11000      10\n",
       "1500       10\n",
       "           ..\n",
       "88000       1\n",
       "870000      1\n",
       "510000      1\n",
       "540000      1\n",
       "2900000     1\n",
       "Name: count, Length: 328, dtype: int64"
      ]
     },
     "metadata": {},
     "output_type": "display_data"
    }
   ],
   "source": [
    "# Show values por each column of ev_sales_df\n",
    "for column in ev_sales_df.columns:\n",
    "    display(ev_sales_df[column].value_counts())"
   ]
  },
  {
   "cell_type": "markdown",
   "id": "52046ad4-eaa3-429a-b8cf-7a8ffa7d9607",
   "metadata": {},
   "source": [
    "+ In the initial data overview we have found that:\n",
    "    + 'powertrain' divides ev_sales into PHEV (Plug-in Hybrid Vehicles) and BEV (Battery Electric Vehicles). Since we are only interested in BEV, we will **filter PHEV rows out** and **drop 'powertrain'** column\n",
    "    + **'category', 'parameter', 'mode', and 'unit'** columns only have 1 possible value. Therefore those columns will be **dropped**.\n",
    "\n",
    "    + 'region' and 'year' have different number of rows. This indicates we have some missing data. This can be due to:\n",
    "        + years with 0 sales are excluded (year starts when there are sales), which is in agreement with the 'value' range seen\n",
    "        + there are missing values for some years\n"
   ]
  },
  {
   "cell_type": "markdown",
   "id": "c4e8aad9-93be-4e51-8b24-392a5aa5d82d",
   "metadata": {},
   "source": [
    "## 2.3 Filter & Clean Data\n",
    "+ We will **apply the actions in bold stated in the section above** and continue to study the years for each region to decide on next actions."
   ]
  },
  {
   "cell_type": "code",
   "execution_count": 5,
   "id": "5768ddd2-4e23-45b4-9b97-3c5292a98b6f",
   "metadata": {},
   "outputs": [
    {
     "data": {
      "text/html": [
       "<div>\n",
       "<style scoped>\n",
       "    .dataframe tbody tr th:only-of-type {\n",
       "        vertical-align: middle;\n",
       "    }\n",
       "\n",
       "    .dataframe tbody tr th {\n",
       "        vertical-align: top;\n",
       "    }\n",
       "\n",
       "    .dataframe thead th {\n",
       "        text-align: right;\n",
       "    }\n",
       "</style>\n",
       "<table border=\"1\" class=\"dataframe\">\n",
       "  <thead>\n",
       "    <tr style=\"text-align: right;\">\n",
       "      <th></th>\n",
       "      <th>region</th>\n",
       "      <th>year</th>\n",
       "      <th>value</th>\n",
       "    </tr>\n",
       "  </thead>\n",
       "  <tbody>\n",
       "    <tr>\n",
       "      <th>0</th>\n",
       "      <td>Australia</td>\n",
       "      <td>2011</td>\n",
       "      <td>49</td>\n",
       "    </tr>\n",
       "    <tr>\n",
       "      <th>1</th>\n",
       "      <td>Australia</td>\n",
       "      <td>2012</td>\n",
       "      <td>170</td>\n",
       "    </tr>\n",
       "    <tr>\n",
       "      <th>4</th>\n",
       "      <td>Australia</td>\n",
       "      <td>2013</td>\n",
       "      <td>190</td>\n",
       "    </tr>\n",
       "    <tr>\n",
       "      <th>5</th>\n",
       "      <td>Australia</td>\n",
       "      <td>2014</td>\n",
       "      <td>370</td>\n",
       "    </tr>\n",
       "    <tr>\n",
       "      <th>8</th>\n",
       "      <td>Australia</td>\n",
       "      <td>2015</td>\n",
       "      <td>760</td>\n",
       "    </tr>\n",
       "  </tbody>\n",
       "</table>\n",
       "</div>"
      ],
      "text/plain": [
       "      region  year  value\n",
       "0  Australia  2011     49\n",
       "1  Australia  2012    170\n",
       "4  Australia  2013    190\n",
       "5  Australia  2014    370\n",
       "8  Australia  2015    760"
      ]
     },
     "metadata": {},
     "output_type": "display_data"
    }
   ],
   "source": [
    "# Create a dataframe copy to work this section\n",
    "ev_sales_df1 = ev_sales_df.copy()\n",
    "\n",
    "# Filter BEV to discard PHEV\n",
    "ev_sales_df1 = ev_sales_df1[ev_sales_df1['powertrain'] == 'BEV']\n",
    "\n",
    "# Drop all columns with only 1 value\n",
    "ev_sales_df1.drop(['category','parameter','mode','powertrain','unit'], axis=1, inplace=True)\n",
    "\n",
    "# Check top 5 rows\n",
    "display(ev_sales_df1.head())"
   ]
  },
  {
   "cell_type": "markdown",
   "id": "84e2a7b4-f863-449d-b4fa-e6a59723aa9b",
   "metadata": {},
   "source": [
    "In the *.value_counts()* above we have seen that there are no 0's in the 'value' column. This suggests that the missing years are the ones where there where no sales. Furthermore, the *.value_counts()* for the years agrees with this statement: earlier years have less values than the most recent ones. However, this doesn't 100% confirm there are no missing rows (years) for all countries. To confirm this, we will have to **check year continuity from the last year (2022) back**."
   ]
  },
  {
   "cell_type": "code",
   "execution_count": 6,
   "id": "2428ead6-f357-4731-920e-37f99a5bf07d",
   "metadata": {},
   "outputs": [],
   "source": [
    "# Create a function that check for continuity in the years for each region\n",
    "def check_continuity(df):\n",
    "    df = df.sort_values(['region', 'year']) # sort values by region and year to ensure chronological order\n",
    "    missing = []\n",
    "    for region, group in df.groupby('region'): # iterate df by region groups\n",
    "        diffs = group['year'].diff() # calculate \n",
    "        if not diffs.isin([1, None]).all():  # if there's a difference greater than 1 year\n",
    "            years = group['year'][diffs > 1]\n",
    "            for year in years:\n",
    "                missing.append((region, year - 1))  # previous year is missing\n",
    "    return missing"
   ]
  },
  {
   "cell_type": "code",
   "execution_count": 7,
   "id": "0fa31fac-a248-4814-9d00-c1216ee063af",
   "metadata": {},
   "outputs": [
    {
     "data": {
      "text/plain": [
       "[('Turkiye', 2013)]"
      ]
     },
     "execution_count": 7,
     "metadata": {},
     "output_type": "execute_result"
    }
   ],
   "source": [
    "# Apply check_continuity function\n",
    "check_continuity(ev_sales_df1)"
   ]
  },
  {
   "cell_type": "markdown",
   "id": "aace927c-8ad3-4646-ad2d-88c1d6120e09",
   "metadata": {},
   "source": [
    "The only missing value appears to be for region Turkiye, year 2013."
   ]
  },
  {
   "cell_type": "code",
   "execution_count": 8,
   "id": "2642c239-0b36-4e94-83a1-f40637276a6a",
   "metadata": {},
   "outputs": [
    {
     "data": {
      "text/html": [
       "<div>\n",
       "<style scoped>\n",
       "    .dataframe tbody tr th:only-of-type {\n",
       "        vertical-align: middle;\n",
       "    }\n",
       "\n",
       "    .dataframe tbody tr th {\n",
       "        vertical-align: top;\n",
       "    }\n",
       "\n",
       "    .dataframe thead th {\n",
       "        text-align: right;\n",
       "    }\n",
       "</style>\n",
       "<table border=\"1\" class=\"dataframe\">\n",
       "  <thead>\n",
       "    <tr style=\"text-align: right;\">\n",
       "      <th></th>\n",
       "      <th>region</th>\n",
       "      <th>year</th>\n",
       "      <th>value</th>\n",
       "    </tr>\n",
       "  </thead>\n",
       "  <tbody>\n",
       "    <tr>\n",
       "      <th>737</th>\n",
       "      <td>Turkiye</td>\n",
       "      <td>2012</td>\n",
       "      <td>92</td>\n",
       "    </tr>\n",
       "    <tr>\n",
       "      <th>740</th>\n",
       "      <td>Turkiye</td>\n",
       "      <td>2014</td>\n",
       "      <td>46</td>\n",
       "    </tr>\n",
       "    <tr>\n",
       "      <th>741</th>\n",
       "      <td>Turkiye</td>\n",
       "      <td>2015</td>\n",
       "      <td>120</td>\n",
       "    </tr>\n",
       "    <tr>\n",
       "      <th>744</th>\n",
       "      <td>Turkiye</td>\n",
       "      <td>2016</td>\n",
       "      <td>44</td>\n",
       "    </tr>\n",
       "    <tr>\n",
       "      <th>745</th>\n",
       "      <td>Turkiye</td>\n",
       "      <td>2017</td>\n",
       "      <td>77</td>\n",
       "    </tr>\n",
       "    <tr>\n",
       "      <th>748</th>\n",
       "      <td>Turkiye</td>\n",
       "      <td>2018</td>\n",
       "      <td>190</td>\n",
       "    </tr>\n",
       "    <tr>\n",
       "      <th>749</th>\n",
       "      <td>Turkiye</td>\n",
       "      <td>2019</td>\n",
       "      <td>230</td>\n",
       "    </tr>\n",
       "    <tr>\n",
       "      <th>752</th>\n",
       "      <td>Turkiye</td>\n",
       "      <td>2020</td>\n",
       "      <td>890</td>\n",
       "    </tr>\n",
       "    <tr>\n",
       "      <th>754</th>\n",
       "      <td>Turkiye</td>\n",
       "      <td>2021</td>\n",
       "      <td>3000</td>\n",
       "    </tr>\n",
       "    <tr>\n",
       "      <th>755</th>\n",
       "      <td>Turkiye</td>\n",
       "      <td>2022</td>\n",
       "      <td>7000</td>\n",
       "    </tr>\n",
       "  </tbody>\n",
       "</table>\n",
       "</div>"
      ],
      "text/plain": [
       "      region  year  value\n",
       "737  Turkiye  2012     92\n",
       "740  Turkiye  2014     46\n",
       "741  Turkiye  2015    120\n",
       "744  Turkiye  2016     44\n",
       "745  Turkiye  2017     77\n",
       "748  Turkiye  2018    190\n",
       "749  Turkiye  2019    230\n",
       "752  Turkiye  2020    890\n",
       "754  Turkiye  2021   3000\n",
       "755  Turkiye  2022   7000"
      ]
     },
     "execution_count": 8,
     "metadata": {},
     "output_type": "execute_result"
    }
   ],
   "source": [
    "# Check Turkiye's missing value group\n",
    "ev_sales_df1[ev_sales_df1['region'] == 'Turkiye']"
   ]
  },
  {
   "cell_type": "markdown",
   "id": "eb58f3a0-8dd0-4caf-bd1a-19511029ce6b",
   "metadata": {},
   "source": [
    "Sales around year 2013 in Turkiye were really low. In 2012, 92 cars were sold and in 2014, 46 cars were sold. Therefore we conclude the actual sales in Turkiye for the year 2013 were actually 0 - there are no missing values."
   ]
  },
  {
   "cell_type": "code",
   "execution_count": 9,
   "id": "d7af61e9-66ec-4ed3-acba-538b9ae2b726",
   "metadata": {},
   "outputs": [],
   "source": [
    "# Sort by region and year to ensure chronological order and reset index of dataframe\n",
    "ev_sales_df1 = ev_sales_df1.sort_values(['region', 'year']).reset_index(drop=True)"
   ]
  },
  {
   "cell_type": "markdown",
   "id": "960f5e7a-6224-48ca-a8f6-9ce25e02379d",
   "metadata": {},
   "source": [
    "## 2.4 Merge Datasets\n",
    "+ We will now  combine the two datasets: **car_sales_df** and **ev_sales_df1**. To do this we will:\n",
    "+ **Rename** the column **'value'** in the ev_sales_df to **'ev_sales'**\n",
    "+ **Add a calculated column** to the ev_sales_df1 called **ev_sales_share**, calculated as: *ev_sales_share = ev_sales / car_sales.value*\n",
    "+ **Add a new calculated column** to the ev_sales_df1 **'ev_sales_share_change'** to track the share change year by year. *'ev_sales_share_change' = 'ev_sales_share'(current year) - 'ev_sales_share'(previous year)"
   ]
  },
  {
   "cell_type": "code",
   "execution_count": 70,
   "id": "dd848caa-58aa-40ca-b813-b55f6201c1ed",
   "metadata": {},
   "outputs": [],
   "source": [
    "# Create a copy of the ev_sales_df for this section\n",
    "ev_sales_df2 = ev_sales_df1.copy()\n",
    "\n",
    "# Rename the column 'value' to 'ev_sales'\n",
    "ev_sales_df2.rename( columns = {'value':'ev_sales'}, inplace = True)\n",
    "\n",
    "# Add calculated column: ev_sales_share = ev_sales / car_sales.value\n",
    "ev_sales_df2 = ev_sales_df2.join(car_sales_df.set_index('year'), on='year'\n",
    "                                ).rename(columns={'value':'global_car_sales'}) # Join the global car_sales data\n",
    "# Add calculated column: ice_sales = global_car_sales - ev_sales\n",
    "ev_sales_df2['ice_sales'] = ev_sales_df2['global_car_sales'] - ev_sales_df2['ev_sales']\n",
    "# Add calculated column: ev_sales_share = (ev_sales / global_car_sales) * 100\n",
    "ev_sales_df2['ev_sales_share'] = ((ev_sales_df2['ev_sales'] / ev_sales_df2['global_car_sales']) * 100).round(5)\n",
    "\n",
    "merged_df = pd.DataFrame()\n",
    "\n",
    "for country, group in ev_sales_df2.groupby('region'):\n",
    "    # Add calculated column: 'ev_sales_share_change' = 'ev_sales_share'(current year) - 'ev_sales_share'(previous year)\n",
    "    group['ev_sales_share_change'] = group['ev_sales_share'] - group['ev_sales_share'].shift(+1)\n",
    "    group['ev_sales_share_change'].fillna(0, inplace=True)\n",
    "    # Add calculated column: 'ev_sales_share_growth'\n",
    "    group['ev_sales_share_growth'] = (((group['ev_sales_share'] - group['ev_sales_share'].shift(+1)) / group['ev_sales_share'].shift(+1)) * 100).round(1)\n",
    "    group['ev_sales_share_growth'].fillna(0, inplace=True)\n",
    "    # Add calculated column: 'ev_sales_growth'\n",
    "    group['ev_sales_growth'] = (((group['ev_sales'] - group['ev_sales'].shift(+1))/group['ev_sales'].shift(+1)) * 100).round(1)\n",
    "    group['ev_sales_growth'].fillna(0, inplace=True)\n",
    "    # Concatenate the group with the merged dataframe\n",
    "    merged_df = pd.concat([merged_df, group])"
   ]
  },
  {
   "cell_type": "markdown",
   "id": "d7d7c524-c5f5-4a27-a775-15ebcd595746",
   "metadata": {},
   "source": [
    "## 2.5 Save Clean Data"
   ]
  },
  {
   "cell_type": "code",
   "execution_count": 71,
   "id": "28e9a1db-d854-46f9-b813-490414c0b429",
   "metadata": {},
   "outputs": [],
   "source": [
    "# Save clean data as .csv\n",
    "merged_df.to_csv('../data/clean_data/ev_sales_clean.csv',index = False, sep=\",\")\n",
    "df = merged_df.copy() # Create a copy to work with in the rest of the notebook"
   ]
  },
  {
   "cell_type": "code",
   "execution_count": 72,
   "id": "5b11e53e-3272-4693-97a3-f34533895de8",
   "metadata": {},
   "outputs": [
    {
     "data": {
      "text/html": [
       "<div>\n",
       "<style scoped>\n",
       "    .dataframe tbody tr th:only-of-type {\n",
       "        vertical-align: middle;\n",
       "    }\n",
       "\n",
       "    .dataframe tbody tr th {\n",
       "        vertical-align: top;\n",
       "    }\n",
       "\n",
       "    .dataframe thead th {\n",
       "        text-align: right;\n",
       "    }\n",
       "</style>\n",
       "<table border=\"1\" class=\"dataframe\">\n",
       "  <thead>\n",
       "    <tr style=\"text-align: right;\">\n",
       "      <th></th>\n",
       "      <th>region</th>\n",
       "      <th>year</th>\n",
       "      <th>ev_sales</th>\n",
       "      <th>global_car_sales</th>\n",
       "      <th>ice_sales</th>\n",
       "      <th>ev_sales_share</th>\n",
       "      <th>ev_sales_share_change</th>\n",
       "      <th>ev_sales_share_growth</th>\n",
       "      <th>ev_sales_growth</th>\n",
       "    </tr>\n",
       "  </thead>\n",
       "  <tbody>\n",
       "    <tr>\n",
       "      <th>0</th>\n",
       "      <td>Australia</td>\n",
       "      <td>2011</td>\n",
       "      <td>49</td>\n",
       "      <td>71200000</td>\n",
       "      <td>71199951</td>\n",
       "      <td>0.00007</td>\n",
       "      <td>0.00000</td>\n",
       "      <td>0.0</td>\n",
       "      <td>0.0</td>\n",
       "    </tr>\n",
       "    <tr>\n",
       "      <th>1</th>\n",
       "      <td>Australia</td>\n",
       "      <td>2012</td>\n",
       "      <td>170</td>\n",
       "      <td>73800000</td>\n",
       "      <td>73799830</td>\n",
       "      <td>0.00023</td>\n",
       "      <td>0.00016</td>\n",
       "      <td>228.6</td>\n",
       "      <td>246.9</td>\n",
       "    </tr>\n",
       "    <tr>\n",
       "      <th>2</th>\n",
       "      <td>Australia</td>\n",
       "      <td>2013</td>\n",
       "      <td>190</td>\n",
       "      <td>77500000</td>\n",
       "      <td>77499810</td>\n",
       "      <td>0.00025</td>\n",
       "      <td>0.00002</td>\n",
       "      <td>8.7</td>\n",
       "      <td>11.8</td>\n",
       "    </tr>\n",
       "    <tr>\n",
       "      <th>3</th>\n",
       "      <td>Australia</td>\n",
       "      <td>2014</td>\n",
       "      <td>370</td>\n",
       "      <td>80000000</td>\n",
       "      <td>79999630</td>\n",
       "      <td>0.00046</td>\n",
       "      <td>0.00021</td>\n",
       "      <td>84.0</td>\n",
       "      <td>94.7</td>\n",
       "    </tr>\n",
       "    <tr>\n",
       "      <th>4</th>\n",
       "      <td>Australia</td>\n",
       "      <td>2015</td>\n",
       "      <td>760</td>\n",
       "      <td>81800000</td>\n",
       "      <td>81799240</td>\n",
       "      <td>0.00093</td>\n",
       "      <td>0.00047</td>\n",
       "      <td>102.2</td>\n",
       "      <td>105.4</td>\n",
       "    </tr>\n",
       "  </tbody>\n",
       "</table>\n",
       "</div>"
      ],
      "text/plain": [
       "      region  year  ev_sales  global_car_sales  ice_sales  ev_sales_share  \\\n",
       "0  Australia  2011        49          71200000   71199951         0.00007   \n",
       "1  Australia  2012       170          73800000   73799830         0.00023   \n",
       "2  Australia  2013       190          77500000   77499810         0.00025   \n",
       "3  Australia  2014       370          80000000   79999630         0.00046   \n",
       "4  Australia  2015       760          81800000   81799240         0.00093   \n",
       "\n",
       "   ev_sales_share_change  ev_sales_share_growth  ev_sales_growth  \n",
       "0                0.00000                    0.0              0.0  \n",
       "1                0.00016                  228.6            246.9  \n",
       "2                0.00002                    8.7             11.8  \n",
       "3                0.00021                   84.0             94.7  \n",
       "4                0.00047                  102.2            105.4  "
      ]
     },
     "execution_count": 72,
     "metadata": {},
     "output_type": "execute_result"
    }
   ],
   "source": [
    "df.head()"
   ]
  },
  {
   "cell_type": "markdown",
   "id": "d633e663-fc22-4b52-821c-6ee39e70d787",
   "metadata": {},
   "source": [
    "# 3 Question #1 - Current Stage of EV Adoption"
   ]
  },
  {
   "cell_type": "markdown",
   "id": "395cd594-d078-4a02-b2fe-6b99f5336dcb",
   "metadata": {},
   "source": [
    "According to Everett M. Roger's *Diffusion of Innovation Theory*, when adopting any innovation, population is divided into the following segments:\n",
    "<div align=\"center\">\n",
    "<img src=\"https://i0.wp.com/ondigitalmarketing.com/wp-content/uploads/2012/01/640px-Diffusionofideas.png?ssl=1\" alt=\"Adoption curve\" width=350\">\n",
    "</div>\n",
    "\n",
    "To find the current stage, we must calculate the acumulated percentage for each segment:\n",
    "Population segment|Accumulated percentage\n",
    "------------------|-----------------------\n",
    "Innovators|0-2.5%\n",
    "Early Adopters|2.5-16%\n",
    "Early Majority|16-50%\n",
    "Late Majority|50-84%\n",
    "Laggards|84-100%\n",
    "\n",
    "We will create a function to calculate this dinamically in case we integrate this into a real data system."
   ]
  },
  {
   "cell_type": "code",
   "execution_count": 13,
   "id": "94b1ee02-cb14-40ed-a65f-f8459124b0a7",
   "metadata": {},
   "outputs": [],
   "source": [
    "def get_population_segment(accum_market_share: float) -> str:\n",
    "    '''\n",
    "    '''\n",
    "    if accum_market_share < 2.5:\n",
    "        return 'Innovators'\n",
    "    elif accum_market_share < 16:\n",
    "        return 'Early Adopters'\n",
    "    elif accum_market_share < 50:\n",
    "        return 'Early Majority'\n",
    "    elif accum_market_share < 84:\n",
    "        return 'Late Majority'\n",
    "    elif accum_market_share <= 100:\n",
    "        return 'Laggards'"
   ]
  },
  {
   "cell_type": "markdown",
   "id": "13654d4f-c890-444d-be40-7dcb863b5d00",
   "metadata": {},
   "source": [
    "Next, we simply have to filter the region to 'World', get the last value, and use the function to return the current stage."
   ]
  },
  {
   "cell_type": "code",
   "execution_count": 14,
   "id": "d9078e53-d1de-48ee-9f47-ed5d549878d3",
   "metadata": {},
   "outputs": [
    {
     "name": "stdout",
     "output_type": "stream",
     "text": [
      "Answer to question #1: We are currently in the Early Adopters stage with 9.76% of car sales being electric.\n"
     ]
    }
   ],
   "source": [
    "# Filter df to get current_ev_sales_share\n",
    "current_ev_sales_share = df[df['region'] == 'World']['ev_sales_share'].tail(1).iloc[0]\n",
    "\n",
    "print('Answer to question #1: We are currently in the {} stage with {}% of car sales being electric.'.format(get_population_segment(current_ev_sales_share),current_ev_sales_share.round(2)))"
   ]
  },
  {
   "cell_type": "markdown",
   "id": "37d7b591-4f33-4e3f-b17c-5493cfd270a6",
   "metadata": {},
   "source": [
    "# 4 Question #2 - Leading countries in EV sales"
   ]
  },
  {
   "cell_type": "code",
   "execution_count": 113,
   "id": "0636ddae-297f-481a-90c3-28d5ecbbe637",
   "metadata": {},
   "outputs": [
    {
     "data": {
      "text/html": [
       "<iframe\n",
       "    scrolling=\"no\"\n",
       "    width=\"100%\"\n",
       "    height=\"545px\"\n",
       "    src=\"iframe_figures/figure_113.html\"\n",
       "    frameborder=\"0\"\n",
       "    allowfullscreen\n",
       "></iframe>\n"
      ]
     },
     "metadata": {},
     "output_type": "display_data"
    },
    {
     "data": {
      "text/html": [
       "<style type=\"text/css\">\n",
       "</style>\n",
       "<table id=\"T_3a791\">\n",
       "  <thead>\n",
       "    <tr>\n",
       "      <th id=\"T_3a791_level0_col0\" class=\"col_heading level0 col0\" >Rank</th>\n",
       "      <th id=\"T_3a791_level0_col1\" class=\"col_heading level0 col1\" >Country</th>\n",
       "      <th id=\"T_3a791_level0_col2\" class=\"col_heading level0 col2\" >Sales share (%)</th>\n",
       "      <th id=\"T_3a791_level0_col3\" class=\"col_heading level0 col3\" >Sales</th>\n",
       "    </tr>\n",
       "  </thead>\n",
       "  <tbody>\n",
       "    <tr>\n",
       "      <td id=\"T_3a791_row0_col0\" class=\"data row0 col0\" >1</td>\n",
       "      <td id=\"T_3a791_row0_col1\" class=\"data row0 col1\" >China</td>\n",
       "      <td id=\"T_3a791_row0_col2\" class=\"data row0 col2\" >60.300000</td>\n",
       "      <td id=\"T_3a791_row0_col3\" class=\"data row0 col3\" >4400000</td>\n",
       "    </tr>\n",
       "    <tr>\n",
       "      <td id=\"T_3a791_row1_col0\" class=\"data row1 col0\" >2</td>\n",
       "      <td id=\"T_3a791_row1_col1\" class=\"data row1 col1\" >USA</td>\n",
       "      <td id=\"T_3a791_row1_col2\" class=\"data row1 col2\" >11.000000</td>\n",
       "      <td id=\"T_3a791_row1_col3\" class=\"data row1 col3\" >800000</td>\n",
       "    </tr>\n",
       "    <tr>\n",
       "      <td id=\"T_3a791_row2_col0\" class=\"data row2 col0\" >3</td>\n",
       "      <td id=\"T_3a791_row2_col1\" class=\"data row2 col1\" >Germany</td>\n",
       "      <td id=\"T_3a791_row2_col2\" class=\"data row2 col2\" >6.400000</td>\n",
       "      <td id=\"T_3a791_row2_col3\" class=\"data row2 col3\" >470000</td>\n",
       "    </tr>\n",
       "    <tr>\n",
       "      <td id=\"T_3a791_row3_col0\" class=\"data row3 col0\" >4</td>\n",
       "      <td id=\"T_3a791_row3_col1\" class=\"data row3 col1\" >United Kingdom</td>\n",
       "      <td id=\"T_3a791_row3_col2\" class=\"data row3 col2\" >3.700000</td>\n",
       "      <td id=\"T_3a791_row3_col3\" class=\"data row3 col3\" >270000</td>\n",
       "    </tr>\n",
       "    <tr>\n",
       "      <td id=\"T_3a791_row4_col0\" class=\"data row4 col0\" >5</td>\n",
       "      <td id=\"T_3a791_row4_col1\" class=\"data row4 col1\" >France</td>\n",
       "      <td id=\"T_3a791_row4_col2\" class=\"data row4 col2\" >2.900000</td>\n",
       "      <td id=\"T_3a791_row4_col3\" class=\"data row4 col3\" >210000</td>\n",
       "    </tr>\n",
       "    <tr>\n",
       "      <td id=\"T_3a791_row5_col0\" class=\"data row5 col0\" >6</td>\n",
       "      <td id=\"T_3a791_row5_col1\" class=\"data row5 col1\" >Norway</td>\n",
       "      <td id=\"T_3a791_row5_col2\" class=\"data row5 col2\" >2.100000</td>\n",
       "      <td id=\"T_3a791_row5_col3\" class=\"data row5 col3\" >150000</td>\n",
       "    </tr>\n",
       "    <tr>\n",
       "      <td id=\"T_3a791_row6_col0\" class=\"data row6 col0\" >7</td>\n",
       "      <td id=\"T_3a791_row6_col1\" class=\"data row6 col1\" >All other countries</td>\n",
       "      <td id=\"T_3a791_row6_col2\" class=\"data row6 col2\" >1.600000</td>\n",
       "      <td id=\"T_3a791_row6_col3\" class=\"data row6 col3\" >120000</td>\n",
       "    </tr>\n",
       "    <tr>\n",
       "      <td id=\"T_3a791_row7_col0\" class=\"data row7 col0\" >8</td>\n",
       "      <td id=\"T_3a791_row7_col1\" class=\"data row7 col1\" >All other countries</td>\n",
       "      <td id=\"T_3a791_row7_col2\" class=\"data row7 col2\" >1.300000</td>\n",
       "      <td id=\"T_3a791_row7_col3\" class=\"data row7 col3\" >96000</td>\n",
       "    </tr>\n",
       "    <tr>\n",
       "      <td id=\"T_3a791_row8_col0\" class=\"data row8 col0\" >9</td>\n",
       "      <td id=\"T_3a791_row8_col1\" class=\"data row8 col1\" >All other countries</td>\n",
       "      <td id=\"T_3a791_row8_col2\" class=\"data row8 col2\" >1.200000</td>\n",
       "      <td id=\"T_3a791_row8_col3\" class=\"data row8 col3\" >85000</td>\n",
       "    </tr>\n",
       "    <tr>\n",
       "      <td id=\"T_3a791_row9_col0\" class=\"data row9 col0\" >10</td>\n",
       "      <td id=\"T_3a791_row9_col1\" class=\"data row9 col1\" >All other countries</td>\n",
       "      <td id=\"T_3a791_row9_col2\" class=\"data row9 col2\" >1.000000</td>\n",
       "      <td id=\"T_3a791_row9_col3\" class=\"data row9 col3\" >73000</td>\n",
       "    </tr>\n",
       "  </tbody>\n",
       "</table>\n"
      ],
      "text/plain": [
       "<pandas.io.formats.style.Styler at 0x28f936710>"
      ]
     },
     "metadata": {},
     "output_type": "display_data"
    }
   ],
   "source": [
    "def create_country_sales_rank(df: pd.DataFrame) -> tuple:\n",
    "    '''\n",
    "    '''\n",
    "\n",
    "    # List regions that are not countries to filter them out\n",
    "    exclude_regions = ['World','Europe','EU27','Other Europe','Rest of the world']\n",
    "    \n",
    "    # Filter df to get rank of countries\n",
    "    sales_country_rank = df[(df['year']==2022) & (~df['region'].isin(exclude_regions))][['region','ev_sales','ev_sales_share']].sort_values('ev_sales_share', ascending = False)\n",
    "    \n",
    "    # Create rank column\n",
    "    sales_country_rank['Rank'] = sales_country_rank.reset_index().index + 1\n",
    "    \n",
    "    # Get EV global sales for 2022\n",
    "    current_world_sales = df[df['region'] == 'World']['ev_sales'].tail(1).iloc[0]\n",
    "    \n",
    "    # Create calculated column with share of ev cars sold over total ev sales by country\n",
    "    sales_country_rank['ev_sales_country_share'] = ((sales_country_rank['ev_sales'] / current_world_sales) * 100).round(1)\n",
    "\n",
    "    sales_country_rank.rename(columns={'region':'Country','ev_sales':'Sales','ev_sales_country_share':'Sales share (%)'}, inplace=True)\n",
    "\n",
    "    sales_country_rank = sales_country_rank.head(10)\n",
    "\n",
    "    sales_country_rank.loc[sales_country_rank['Sales share (%)'] < 2, 'Country'] = 'All other countries' # Represent only large countries\n",
    "\n",
    "    fig = px.pie(sales_country_rank, values='Sales share (%)', names='Country', title='Sales Share by Country')\n",
    "    \n",
    "    return sales_country_rank[['Rank', 'Country','Sales share (%)', 'Sales']].head(10).style.hide(axis=\"index\"), fig\n",
    "\n",
    "sales_rank_df, fig = create_country_sales_rank_df(df)\n",
    "fig.show()\n",
    "display(sales_rank_df)"
   ]
  },
  {
   "cell_type": "markdown",
   "id": "d18e0ed6-b29a-452c-b5b4-2aa3468dd2bf",
   "metadata": {},
   "source": [
    "# 5 Question #3 - Leading countries in EV sales growth"
   ]
  },
  {
   "cell_type": "code",
   "execution_count": 96,
   "id": "bde984f4-4dd2-448f-affb-30f97327c3e0",
   "metadata": {},
   "outputs": [
    {
     "data": {
      "text/html": [
       "<style type=\"text/css\">\n",
       "</style>\n",
       "<table id=\"T_11cfc\">\n",
       "  <thead>\n",
       "    <tr>\n",
       "      <th id=\"T_11cfc_level0_col0\" class=\"col_heading level0 col0\" >Rank</th>\n",
       "      <th id=\"T_11cfc_level0_col1\" class=\"col_heading level0 col1\" >Country</th>\n",
       "      <th id=\"T_11cfc_level0_col2\" class=\"col_heading level0 col2\" >Sales share growth (%)</th>\n",
       "      <th id=\"T_11cfc_level0_col3\" class=\"col_heading level0 col3\" >Sales</th>\n",
       "    </tr>\n",
       "  </thead>\n",
       "  <tbody>\n",
       "    <tr>\n",
       "      <td id=\"T_11cfc_row0_col0\" class=\"data row0 col0\" >1</td>\n",
       "      <td id=\"T_11cfc_row0_col1\" class=\"data row0 col1\" >India</td>\n",
       "      <td id=\"T_11cfc_row0_col2\" class=\"data row0 col2\" >300.600000</td>\n",
       "      <td id=\"T_11cfc_row0_col3\" class=\"data row0 col3\" >48000</td>\n",
       "    </tr>\n",
       "    <tr>\n",
       "      <td id=\"T_11cfc_row1_col0\" class=\"data row1 col0\" >2</td>\n",
       "      <td id=\"T_11cfc_row1_col1\" class=\"data row1 col1\" >Chile</td>\n",
       "      <td id=\"T_11cfc_row1_col2\" class=\"data row1 col2\" >227.800000</td>\n",
       "      <td id=\"T_11cfc_row1_col3\" class=\"data row1 col3\" >880</td>\n",
       "    </tr>\n",
       "    <tr>\n",
       "      <td id=\"T_11cfc_row2_col0\" class=\"data row2 col0\" >3</td>\n",
       "      <td id=\"T_11cfc_row2_col1\" class=\"data row2 col1\" >Brazil</td>\n",
       "      <td id=\"T_11cfc_row2_col2\" class=\"data row2 col2\" >193.500000</td>\n",
       "      <td id=\"T_11cfc_row2_col3\" class=\"data row2 col3\" >8500</td>\n",
       "    </tr>\n",
       "    <tr>\n",
       "      <td id=\"T_11cfc_row3_col0\" class=\"data row3 col0\" >4</td>\n",
       "      <td id=\"T_11cfc_row3_col1\" class=\"data row3 col1\" >New Zealand</td>\n",
       "      <td id=\"T_11cfc_row3_col2\" class=\"data row3 col2\" >179.700000</td>\n",
       "      <td id=\"T_11cfc_row3_col3\" class=\"data row3 col3\" >19000</td>\n",
       "    </tr>\n",
       "    <tr>\n",
       "      <td id=\"T_11cfc_row4_col0\" class=\"data row4 col0\" >5</td>\n",
       "      <td id=\"T_11cfc_row4_col1\" class=\"data row4 col1\" >Japan</td>\n",
       "      <td id=\"T_11cfc_row4_col2\" class=\"data row4 col2\" >177.700000</td>\n",
       "      <td id=\"T_11cfc_row4_col3\" class=\"data row4 col3\" >61000</td>\n",
       "    </tr>\n",
       "    <tr>\n",
       "      <td id=\"T_11cfc_row5_col0\" class=\"data row5 col0\" >6</td>\n",
       "      <td id=\"T_11cfc_row5_col1\" class=\"data row5 col1\" >Israel</td>\n",
       "      <td id=\"T_11cfc_row5_col2\" class=\"data row5 col2\" >145.700000</td>\n",
       "      <td id=\"T_11cfc_row5_col3\" class=\"data row5 col3\" >27000</td>\n",
       "    </tr>\n",
       "    <tr>\n",
       "      <td id=\"T_11cfc_row6_col0\" class=\"data row6 col0\" >7</td>\n",
       "      <td id=\"T_11cfc_row6_col1\" class=\"data row6 col1\" >Turkiye</td>\n",
       "      <td id=\"T_11cfc_row6_col2\" class=\"data row6 col2\" >133.400000</td>\n",
       "      <td id=\"T_11cfc_row6_col3\" class=\"data row6 col3\" >7000</td>\n",
       "    </tr>\n",
       "    <tr>\n",
       "      <td id=\"T_11cfc_row7_col0\" class=\"data row7 col0\" >8</td>\n",
       "      <td id=\"T_11cfc_row7_col1\" class=\"data row7 col1\" >South Africa</td>\n",
       "      <td id=\"T_11cfc_row7_col2\" class=\"data row7 col2\" >131.000000</td>\n",
       "      <td id=\"T_11cfc_row7_col3\" class=\"data row7 col3\" >500</td>\n",
       "    </tr>\n",
       "    <tr>\n",
       "      <td id=\"T_11cfc_row8_col0\" class=\"data row8 col0\" >9</td>\n",
       "      <td id=\"T_11cfc_row8_col1\" class=\"data row8 col1\" >Poland</td>\n",
       "      <td id=\"T_11cfc_row8_col2\" class=\"data row8 col2\" >94.800000</td>\n",
       "      <td id=\"T_11cfc_row8_col3\" class=\"data row8 col3\" >14000</td>\n",
       "    </tr>\n",
       "    <tr>\n",
       "      <td id=\"T_11cfc_row9_col0\" class=\"data row9 col0\" >10</td>\n",
       "      <td id=\"T_11cfc_row9_col1\" class=\"data row9 col1\" >Australia</td>\n",
       "      <td id=\"T_11cfc_row9_col2\" class=\"data row9 col2\" >94.400000</td>\n",
       "      <td id=\"T_11cfc_row9_col3\" class=\"data row9 col3\" >33000</td>\n",
       "    </tr>\n",
       "  </tbody>\n",
       "</table>\n"
      ],
      "text/plain": [
       "<pandas.io.formats.style.Styler at 0x28b4ef7c0>"
      ]
     },
     "execution_count": 96,
     "metadata": {},
     "output_type": "execute_result"
    }
   ],
   "source": [
    "def create_country_sales_growth_rank_df(df: pd.DataFrame) -> pd.DataFrame:\n",
    "    '''\n",
    "    '''\n",
    "    ranking_column = 'ev_sales_share_growth'\n",
    "    \n",
    "    # List regions that are not countries to filter them out\n",
    "    exclude_regions = ['World','Europe','EU27','Other Europe','Rest of the world']\n",
    "    \n",
    "    # Filter df to get rank of countries\n",
    "    sales_growth_country_rank = df[(df['year']==2022) & (~df['region'].isin(exclude_regions))].sort_values(ranking_column, ascending = False)\n",
    "    \n",
    "    # Create rank column\n",
    "    sales_growth_country_rank['Rank'] = sales_growth_country_rank.reset_index().index + 1\n",
    "\n",
    "    sales_growth_country_rank.rename(columns={'region':'Country','ev_sales':'Sales','ev_sales_share_growth':'Sales share growth (%)'}, inplace=True)\n",
    "\n",
    "    return sales_growth_country_rank[['Rank', 'Country', 'Sales share growth (%)', 'Sales']].head(10).style.hide(axis=\"index\")\n",
    "\n",
    "create_country_sales_growth_rank_df(df)"
   ]
  },
  {
   "cell_type": "markdown",
   "id": "fbc522f6-fe79-4796-9469-cdd4984a8f04",
   "metadata": {},
   "source": [
    "# 6 Question #4 - World EV adoption trend"
   ]
  },
  {
   "cell_type": "code",
   "execution_count": 20,
   "id": "6ed3b3ff-f7f0-49cd-b33a-402563aedd74",
   "metadata": {},
   "outputs": [],
   "source": [
    "world_df = df[df['region'] == 'World']\n",
    "x_data = world_df['year']\n",
    "y_data = world_df['ev_sales_share']"
   ]
  },
  {
   "cell_type": "code",
   "execution_count": 21,
   "id": "9b25d753-e2db-4a04-ab83-267481f34b48",
   "metadata": {},
   "outputs": [
    {
     "name": "stdout",
     "output_type": "stream",
     "text": [
      "Best Fit:  Exponential\n"
     ]
    },
    {
     "data": {
      "image/png": "[encoded data removed]",
      "text/plain": [
       "<Figure size 640x480 with 1 Axes>"
      ]
     },
     "metadata": {},
     "output_type": "display_data"
    },
    {
     "data": {
      "text/plain": [
       "<function dict.get(key, default=None, /)>"
      ]
     },
     "metadata": {},
     "output_type": "display_data"
    }
   ],
   "source": [
    "# Define the dataset as arrays of X and Y values\n",
    "#x_data = np.array([0, 1, 2, 3, 4, 5, 6, 7, 8, 9, 10, 11, 12])\n",
    "\n",
    "# Define the R-squared function\n",
    "def r_squared(y, y_pred):\n",
    "    residual = np.sum((y - y_pred) ** 2)\n",
    "    total = np.sum((y - np.mean(y)) ** 2)\n",
    "    r_sq = 1 - (residual / total)\n",
    "    return r_sq\n",
    "\n",
    "# Visualize the data and original points\n",
    "plt.scatter(x_data, y_data, label='Data Points', color='black')\n",
    "plt.xlabel('X')\n",
    "plt.ylabel('Y')\n",
    "\n",
    "# Fit a linear model to the data\n",
    "def linear_func(x, a, b):\n",
    "    return a * x + b\n",
    "\n",
    "linear_params, _ = curve_fit(linear_func, x_data, y_data)\n",
    "plt.plot(x_data, linear_func(x_data, *linear_params), 'r', label='Linear Fit')\n",
    "\n",
    "# Fit a quadratic model to the data\n",
    "def quadratic_func(x, a, b, c):\n",
    "    return a * x**2 + b * x + c\n",
    "\n",
    "quadratic_guesses = [1, 1, 1]  # Initial guesses for the quadratic fit\n",
    "quadratic_params, _ = curve_fit(quadratic_func, x_data, y_data, p0=quadratic_guesses)\n",
    "plt.plot(x_data, quadratic_func(x_data, *quadratic_params), 'g', label='Quadratic Fit')\n",
    "\n",
    "# Fit an exponential model to the data\n",
    "def exponential_func(x, a, b, c):\n",
    "    return a * np.exp(b * (x - 2010)) + c\n",
    "\n",
    "exponential_guesses = [1, 1, 1]  # Initial guesses for the exponential fit\n",
    "exponential_params, _ = curve_fit(exponential_func, x_data, y_data, p0=exponential_guesses)\n",
    "plt.plot(x_data, exponential_func(x_data, *exponential_params), 'b', label='Exponential Fit')\n",
    "\n",
    "# Print the best fit\n",
    "r_squared_values = {\n",
    "    'Linear': r_squared(y_data, linear_func(x_data, *linear_params)),\n",
    "    'Quadratic': r_squared(y_data, quadratic_func(x_data, *quadratic_params)),\n",
    "    'Exponential': r_squared(y_data, exponential_func(x_data, *exponential_params))\n",
    "}\n",
    "\n",
    "best_fit = max(r_squared_values, key=r_squared_values.get)\n",
    "print(\"Best Fit: \", best_fit)\n",
    "\n",
    "plt.legend()\n",
    "plt.show()\n",
    "\n",
    "#r_squared_values_df = pd.DataFrame(r_squared_values)\n",
    "display(r_squared_values.get)"
   ]
  },
  {
   "cell_type": "code",
   "execution_count": 22,
   "id": "6282f23a-f6e4-4ed9-b14c-780d1361c040",
   "metadata": {},
   "outputs": [
    {
     "name": "stdout",
     "output_type": "stream",
     "text": [
      "Quadratic guesses:  [ 1.17828903e-01 -4.74492125e+02  4.77689534e+05]\n",
      "Exponential guesses:  [0.01396663 0.54538719 0.11010673]\n"
     ]
    }
   ],
   "source": [
    "print(\"Quadratic guesses: \", quadratic_params)\n",
    "print(\"Exponential guesses: \", exponential_params)"
   ]
  },
  {
   "cell_type": "code",
   "execution_count": 23,
   "id": "c403455b-c503-4ae7-bf20-115967bf6c3b",
   "metadata": {},
   "outputs": [
    {
     "data": {
      "text/html": [
       "<div>\n",
       "<style scoped>\n",
       "    .dataframe tbody tr th:only-of-type {\n",
       "        vertical-align: middle;\n",
       "    }\n",
       "\n",
       "    .dataframe tbody tr th {\n",
       "        vertical-align: top;\n",
       "    }\n",
       "\n",
       "    .dataframe thead th {\n",
       "        text-align: right;\n",
       "    }\n",
       "</style>\n",
       "<table border=\"1\" class=\"dataframe\">\n",
       "  <thead>\n",
       "    <tr style=\"text-align: right;\">\n",
       "      <th></th>\n",
       "      <th>R-squared</th>\n",
       "    </tr>\n",
       "  </thead>\n",
       "  <tbody>\n",
       "    <tr>\n",
       "      <th>Linear</th>\n",
       "      <td>0.630410</td>\n",
       "    </tr>\n",
       "    <tr>\n",
       "      <th>Quadratic</th>\n",
       "      <td>0.903264</td>\n",
       "    </tr>\n",
       "    <tr>\n",
       "      <th>Exponential</th>\n",
       "      <td>0.992409</td>\n",
       "    </tr>\n",
       "  </tbody>\n",
       "</table>\n",
       "</div>"
      ],
      "text/plain": [
       "             R-squared\n",
       "Linear        0.630410\n",
       "Quadratic     0.903264\n",
       "Exponential   0.992409"
      ]
     },
     "metadata": {},
     "output_type": "display_data"
    },
    {
     "data": {
      "text/html": [
       "<iframe\n",
       "    scrolling=\"no\"\n",
       "    width=\"100%\"\n",
       "    height=\"545px\"\n",
       "    src=\"iframe_figures/figure_23.html\"\n",
       "    frameborder=\"0\"\n",
       "    allowfullscreen\n",
       "></iframe>\n"
      ]
     },
     "metadata": {},
     "output_type": "display_data"
    }
   ],
   "source": [
    "# Define the R-squared function\n",
    "def r_squared(y, y_pred):\n",
    "    residual = np.sum((y - y_pred) ** 2)\n",
    "    total = np.sum((y - np.mean(y)) ** 2)\n",
    "    r_sq = 1 - (residual / total)\n",
    "    return r_sq\n",
    "\n",
    "# Fit a linear model to the data\n",
    "def linear_func(x, a, b):\n",
    "    return a * x + b\n",
    "\n",
    "linear_params, _ = curve_fit(linear_func, x_data, y_data)\n",
    "\n",
    "# Fit a quadratic model to the data\n",
    "def quadratic_func(x, a, b, c):\n",
    "    return a * x**2 + b * x + c\n",
    "\n",
    "quadratic_guesses = [1, 1, 1]  # Initial guesses for the quadratic fit\n",
    "quadratic_params, _ = curve_fit(quadratic_func, x_data, y_data, p0=quadratic_guesses)\n",
    "\n",
    "# Fit an exponential model to the data\n",
    "def exponential_func(x, a, b, c):\n",
    "    return a * np.exp(b * (x - 2010)) + c\n",
    "\n",
    "exponential_guesses = [1, 1, 1]  # Initial guesses for the exponential fit\n",
    "exponential_params, _ = curve_fit(exponential_func, x_data, y_data, p0=exponential_guesses)\n",
    "\n",
    "# Calculate R-squared values\n",
    "r_squared_values = {\n",
    "    'Linear': r_squared(y_data, linear_func(x_data, *linear_params)),\n",
    "    'Quadratic': r_squared(y_data, quadratic_func(x_data, *quadratic_params)),\n",
    "    'Exponential': r_squared(y_data, exponential_func(x_data, *exponential_params))\n",
    "}\n",
    "\n",
    "# Create a DataFrame with R-squared values\n",
    "r_square_values_df = pd.DataFrame.from_dict(r_squared_values, orient='index', columns=['R-squared'])\n",
    "\n",
    "# Visualize the data and fits using Plotly\n",
    "fig = go.Figure()\n",
    "\n",
    "# Original data points\n",
    "fig.add_trace(go.Scatter(x=x_data, y=y_data, mode='markers', name='Data Points'))\n",
    "\n",
    "# Linear fit\n",
    "linear_fit = linear_func(x_data, *linear_params)\n",
    "fig.add_trace(go.Scatter(x=x_data, y=linear_fit, mode='lines', name='Linear Fit'))\n",
    "\n",
    "# Quadratic fit\n",
    "quadratic_fit = quadratic_func(x_data, *quadratic_params)\n",
    "fig.add_trace(go.Scatter(x=x_data, y=quadratic_fit, mode='lines', name='Quadratic Fit'))\n",
    "\n",
    "# Exponential fit\n",
    "exponential_fit = exponential_func(x_data, *exponential_params)\n",
    "fig.add_trace(go.Scatter(x=x_data, y=exponential_fit, mode='lines', name='Exponential Fit'))\n",
    "\n",
    "fig.update_layout(\n",
    "    title=\"Best Fit\",\n",
    "    xaxis_title=\"X\",\n",
    "    yaxis_title=\"Y\"\n",
    ")\n",
    "\n",
    "display(r_square_values_df)\n",
    "fig.show()\n"
   ]
  },
  {
   "cell_type": "markdown",
   "id": "bd7d5ea9-d192-48be-98c0-3da39c67dd3e",
   "metadata": {},
   "source": [
    "# 7 Question #5 - Finding the EV curve of adoption"
   ]
  },
  {
   "cell_type": "code",
   "execution_count": 183,
   "id": "96a6b30f-8622-49c6-af45-639aff16a8bd",
   "metadata": {},
   "outputs": [
    {
     "name": "stdout",
     "output_type": "stream",
     "text": [
      "Mean (μ): 2028.224475363723\n",
      "Standard Deviation (σ): 3.9674458084839337\n"
     ]
    }
   ],
   "source": [
    "# x and y values\n",
    "x_values = world_df['year']\n",
    "y_values = world_df['ev_sales_share'] / 100 #ev_sales_share_change\n",
    "\n",
    "# define the system of equations\n",
    "def equations(p):\n",
    "    mu, sd = p\n",
    "    return y_values - 0.5 * (1 + special.erf((x_values - mu) / (sd * np.sqrt(2))))\n",
    "\n",
    "# initial guess for the mean and standard deviation\n",
    "mu_init, sd_init = 2028, 2\n",
    "\n",
    "# solve the system of equations\n",
    "solution = least_squares(equations, (mu_init, sd_init))\n",
    "\n",
    "mu, sd = solution.x\n",
    "\n",
    "print('Mean (μ):', mu)\n",
    "print('Standard Deviation (σ):', sd)\n"
   ]
  },
  {
   "cell_type": "code",
   "execution_count": 184,
   "id": "47c03433-ca31-49e6-9ed1-704ec791a751",
   "metadata": {},
   "outputs": [
    {
     "name": "stdout",
     "output_type": "stream",
     "text": [
      "CDF: 0.20818548946544618\n",
      "PDF: 0.07227125819663154\n",
      "X: 2028.224475363723\n"
     ]
    }
   ],
   "source": [
    "# Create an instance of the normal distribution\n",
    "rv = norm(loc=mu, scale=sd)\n",
    "\n",
    "# Calculate the CDF for a specific value\n",
    "x = 2025\n",
    "cdf = 0.5\n",
    "\n",
    "cdf_value = rv.cdf(x)\n",
    "pdf_value = rv.pdf(x)\n",
    "ppf_value = rv.ppf(cdf)\n",
    "\n",
    "print(\"CDF:\", cdf_value)\n",
    "print(\"PDF:\", pdf_value)\n",
    "print(\"X:\", ppf_value)"
   ]
  },
  {
   "cell_type": "markdown",
   "id": "2121ac6c-5c3d-492d-b98c-8151ad91554d",
   "metadata": {},
   "source": [
    "This project we will analyze the increasing demand of EVs and who's leading it, figure out in which stage of adoption we are and try to estimate how long will it take for the all car transportation to become electric by finding the EV adoption curve."
   ]
  },
  {
   "cell_type": "code",
   "execution_count": 180,
   "id": "3f6d39eb-e2f1-4730-ae65-15304522e860",
   "metadata": {},
   "outputs": [
    {
     "data": {
      "image/png": "[encoded data removed]",
      "text/plain": [
       "<Figure size 1000x600 with 1 Axes>"
      ]
     },
     "metadata": {},
     "output_type": "display_data"
    }
   ],
   "source": [
    "import numpy as np\n",
    "import seaborn as sns\n",
    "import matplotlib.pyplot as plt\n",
    "from scipy.stats import norm\n",
    "\n",
    "# Set up your figure and axis\n",
    "fig, ax1 = plt.subplots(figsize=(10, 6))\n",
    "\n",
    "# Define the mean and standard deviation\n",
    "mu, sigma = 0, 0.5\n",
    "\n",
    "# Generate the x values\n",
    "x = np.linspace(norm.ppf(0.01, mu, sigma), norm.ppf(0.99, mu, sigma), 100)\n",
    "\n",
    "# Plot the normal distribution\n",
    "sns.lineplot(x=x, y=norm.pdf(x, mu, sigma), ax=ax1, color='darkblue')\n",
    "\n",
    "# Plot the CDF\n",
    "sns.lineplot(x=x, y=norm.cdf(x, mu, sigma), ax=ax1, color='orange')\n",
    "\n",
    "# Shade the left tail up to 9.78%\n",
    "x_fill = np.linspace(norm.ppf(0.01, mu, sigma), norm.ppf(0.0978, mu, sigma), 100)\n",
    "ax1.fill_between(x_fill, 0, norm.pdf(x_fill, mu, sigma), alpha=0.7, color='darkblue')\n",
    "\n",
    "# Define your adoption segments\n",
    "segments = ['Innovators', 'Early Adopters', 'Early Majority', 'Late Majority', 'Laggards']\n",
    "percentages = [2.5, 13.5, 34, 34, 16]\n",
    "\n",
    "# Mark your adoption segments\n",
    "for i, (segment, percentage) in enumerate(zip(segments, percentages)):\n",
    "    if i > 0:  # Avoid going out of bounds on the list\n",
    "        mid_point = (sum(percentages[:i]) + sum(percentages[:i+1])) / 2  # Mid point for label placement\n",
    "    else:\n",
    "        mid_point = percentage / 2\n",
    "\n",
    "    x_loc_label = norm.ppf(mid_point/100, mu, sigma)  # x location for segment label\n",
    "    x_loc_line = norm.ppf(sum(percentages[:i+1])/100, mu, sigma)  # x location for vertical line\n",
    "\n",
    "    if np.isfinite(x_loc_label):  # check for valid location for label\n",
    "        ax1.text(x_loc_label, 0, segment, \n",
    "                 horizontalalignment='center', verticalalignment='top', fontsize=12)\n",
    "\n",
    "    if np.isfinite(x_loc_line) and i < len(percentages) - 1:  # check for valid location for vertical line\n",
    "        ax1.vlines(x=x_loc_line, ymin=0, ymax=norm.pdf(x_loc_line, mu, sigma), color='grey', linestyle='--')  # Draw vertical line for segment division\n",
    "        percentage_label_y = norm.pdf(x_loc_line, mu, sigma) - 0.02\n",
    "        ax1.text(x_loc_line, percentage_label_y, f\"{percentages[i+1]}%\", \n",
    "                 horizontalalignment='center', verticalalignment='top', fontsize=10)\n",
    "\n",
    "# Mark the shaded region\n",
    "ax1.text(norm.ppf(0.0978/2, mu, sigma), norm.pdf(norm.ppf(0.13, mu, sigma), mu, sigma) + 0.03, \n",
    "         'Early Adopters Phase', horizontalalignment='center', color='darkblue', fontweight='bold', fontsize=12)\n",
    "ax1.text(norm.ppf(0.0978/2, mu, sigma), norm.pdf(norm.ppf(0.12, mu, sigma), mu, sigma), \n",
    "         '9.76%', horizontalalignment='center', color='darkblue', fontweight='bold', fontsize=12)\n",
    "\n",
    "# Remove x and y ticks\n",
    "ax1.set_xticks([])\n",
    "ax1.set_yticks([])\n",
    "\n",
    "# Set y-axis label and position it on the right\n",
    "ax1.set_ylabel('Market Share', fontsize=12, rotation='horizontal', ha='left')\n",
    "ax1.yaxis.set_label_coords(1.05, 1)  # Adjust the position of the y-axis label\n",
    "\n",
    "# Add y-axis ticks at 0, 25, 50, 75, and 100% marks\n",
    "ax1.set_yticks([0, 0.25, 0.5, 0.75, 1])\n",
    "ax1.set_yticklabels(['0%', '25%', '50%', '75%', '100%'], fontsize=12)\n",
    "\n",
    "# Add some margin below the x-axis\n",
    "ax1.margins(x=0, y=0.1)\n",
    "\n",
    "# Save the figure\n",
    "plt.savefig('../resources/plots/current_phase_plot.png', dpi=300, bbox_inches='tight')\n",
    "\n",
    "plt.show()\n"
   ]
  },
  {
   "cell_type": "code",
   "execution_count": 187,
   "id": "a293db5c-5347-4161-82a8-4c7a63cfbb01",
   "metadata": {},
   "outputs": [
    {
     "data": {
      "text/html": [
       "<iframe\n",
       "    scrolling=\"no\"\n",
       "    width=\"100%\"\n",
       "    height=\"545px\"\n",
       "    src=\"iframe_figures/figure_187.html\"\n",
       "    frameborder=\"0\"\n",
       "    allowfullscreen\n",
       "></iframe>\n"
      ]
     },
     "metadata": {},
     "output_type": "display_data"
    }
   ],
   "source": [
    "\n",
    "# Generate the x values with a wider range\n",
    "x = np.linspace(mu - 3 * sd, mu + 3 * sd, 1000)\n",
    "\n",
    "# Create the figure and axes\n",
    "fig = go.Figure()\n",
    "\n",
    "# Plot the normal distribution using a separate y-axis\n",
    "fig.add_trace(go.Scatter(x=x, y=norm.pdf(x, mu, sd), mode='lines', name='PDF', line=dict(color='darkblue'), yaxis='y2'))\n",
    "\n",
    "# Calculate the CDF using the same x values\n",
    "cdf_y = norm.cdf(x, mu, sd)\n",
    "\n",
    "# Plot the CDF\n",
    "fig.add_trace(go.Scatter(x=x, y=cdf_y, mode='lines', name='CDF', line=dict(color='orange')))\n",
    "\n",
    "# Shade the left tail up to 9.78%\n",
    "x_fill = np.linspace(mu - 3 * sd, norm.ppf(0.0978, mu, sd), 100)\n",
    "fig.add_trace(go.Scatter(x=x_fill, y=norm.pdf(x_fill, mu, sd), fill='tozeroy', fillcolor='#98FB98', opacity=0.1, name='Current PDF', yaxis='y2'))\n",
    "\n",
    "# Customize the layout\n",
    "fig.update_layout(\n",
    "    xaxis=dict(showgrid=True, zeroline=False, dtick=1),  # Show gridlines, zeroline, and set dtick to 1 for 1 unit interval in x-axis\n",
    "    yaxis=dict(showgrid=False, zeroline=True, range=[0, 1], ticktext=['0%', '25%', '50%', '75%', '100%'], tickvals=[0, 0.25, 0.5, 0.75, 1]),\n",
    "    yaxis2=dict(showgrid=True, zeroline=False, overlaying='y', side='right', showticklabels=False, range=[0, 0.195]),  # Create a secondary y-axis without tick labels\n",
    "    showlegend=True,\n",
    "    margin=dict(l=2, r=2, t=2, b=20)\n",
    ")\n",
    "\n",
    "# Display the figure\n",
    "fig.show()\n"
   ]
  },
  {
   "cell_type": "markdown",
   "id": "81230f94-7bc9-42c4-a968-51356905b217",
   "metadata": {},
   "source": [
    "# Charts"
   ]
  },
  {
   "cell_type": "markdown",
   "id": "36215d7a-baa8-4fbd-b580-bf1f32bb95c0",
   "metadata": {},
   "source": [
    "## Electric vs. Cobustion Sales"
   ]
  },
  {
   "cell_type": "code",
   "execution_count": 29,
   "id": "bb93f339-7383-4ce5-b4a9-782f02a57f23",
   "metadata": {},
   "outputs": [
    {
     "data": {
      "text/html": [
       "<iframe\n",
       "    scrolling=\"no\"\n",
       "    width=\"100%\"\n",
       "    height=\"545px\"\n",
       "    src=\"iframe_figures/figure_29.html\"\n",
       "    frameborder=\"0\"\n",
       "    allowfullscreen\n",
       "></iframe>\n"
      ]
     },
     "metadata": {},
     "output_type": "display_data"
    }
   ],
   "source": [
    "# Create a function to plot a stacked bar chart of Electric vs. Combustion sales\n",
    "def create_stacked_bar_chart(df: pd.DataFrame):\n",
    "    '''\n",
    "    '''\n",
    "    # Filter & rename dataframe\n",
    "    world_df = df[df['region'] == 'World'].rename(columns={'ev_sales': 'Electric', 'ice_sales': 'Combustion'})\n",
    "    \n",
    "    # Create the stacked bar chart\n",
    "    fig = px.bar(world_df, x='year', y=['Electric', 'Combustion'], title='Global Car Sales',\n",
    "                color_discrete_sequence=['#90EE90', '#ADD8E6'])\n",
    "    \n",
    "    # Update the layout\n",
    "    fig.update_layout(\n",
    "        barmode='stack',\n",
    "        legend=dict(\n",
    "            orientation='h',\n",
    "            yanchor='top',\n",
    "            y=-0.2,\n",
    "            xanchor='center',\n",
    "            x=0.5\n",
    "        ),\n",
    "        xaxis_title=None,\n",
    "        yaxis_title='Sales',\n",
    "        xaxis={'type': 'category'})\n",
    "\n",
    "    return fig\n",
    "\n",
    "# Use the function to get the fig\n",
    "fig = create_stacked_bar_chart(df)\n",
    "\n",
    "# Display the chart\n",
    "fig.show()"
   ]
  },
  {
   "cell_type": "markdown",
   "id": "d56a59b2-8cad-4b11-a38c-80e1624c34f6",
   "metadata": {},
   "source": [
    "## World Sales Share with Trendline"
   ]
  },
  {
   "cell_type": "code",
   "execution_count": 98,
   "id": "5ff8c26c-29bf-4b09-9e18-2a306bee713b",
   "metadata": {},
   "outputs": [
    {
     "data": {
      "text/html": [
       "<iframe\n",
       "    scrolling=\"no\"\n",
       "    width=\"100%\"\n",
       "    height=\"545px\"\n",
       "    src=\"iframe_figures/figure_98.html\"\n",
       "    frameborder=\"0\"\n",
       "    allowfullscreen\n",
       "></iframe>\n"
      ]
     },
     "metadata": {},
     "output_type": "display_data"
    }
   ],
   "source": [
    "def plot_world_sales_share(df: pd.DataFrame):\n",
    "    '''\n",
    "    '''\n",
    "    world_df = df[df['region'] == 'World']\n",
    "    \n",
    "    def exponential_func(x, a, b, c):\n",
    "        return a * np.exp(b * (x - 2010)) + c\n",
    "    \n",
    "    # World EV Sales\n",
    "    fig = px.bar(world_df, x='year', y='ev_sales_share', title='World EV Sales')\n",
    "    \n",
    "    fig.update_layout(\n",
    "        xaxis_title='',\n",
    "        yaxis_title='World car sales share (%)',\n",
    "        xaxis={'type': 'category'},\n",
    "        showlegend=False\n",
    "    )\n",
    "    \n",
    "    # Add exponential line\n",
    "    x_values = world_df['year']\n",
    "    a, b, c = 0.01396663, 0.54538719, 0.11010673\n",
    "    y_exp = exponential_func(x_values, a, b, c)\n",
    "    \n",
    "    fig.add_trace(go.Scatter(x=x_values, y=y_exp, mode='lines', name='Exponential Fit'))\n",
    "    \n",
    "    fig.show()\n",
    "\n",
    "plot_world_sales_share(df)"
   ]
  },
  {
   "cell_type": "markdown",
   "id": "88496747-5a8c-4bf3-9286-baa20d55ccad",
   "metadata": {},
   "source": [
    "## Sales Share Trend Line by region"
   ]
  },
  {
   "cell_type": "code",
   "execution_count": 47,
   "id": "c025e95a-d605-48ac-94d5-fc785682b2b1",
   "metadata": {},
   "outputs": [
    {
     "data": {
      "text/html": [
       "<div>\n",
       "<style scoped>\n",
       "    .dataframe tbody tr th:only-of-type {\n",
       "        vertical-align: middle;\n",
       "    }\n",
       "\n",
       "    .dataframe tbody tr th {\n",
       "        vertical-align: top;\n",
       "    }\n",
       "\n",
       "    .dataframe thead th {\n",
       "        text-align: right;\n",
       "    }\n",
       "</style>\n",
       "<table border=\"1\" class=\"dataframe\">\n",
       "  <thead>\n",
       "    <tr style=\"text-align: right;\">\n",
       "      <th></th>\n",
       "      <th>R-squared</th>\n",
       "    </tr>\n",
       "  </thead>\n",
       "  <tbody>\n",
       "    <tr>\n",
       "      <th>Linear</th>\n",
       "      <td>0.602054</td>\n",
       "    </tr>\n",
       "    <tr>\n",
       "      <th>Quadratic</th>\n",
       "      <td>0.878371</td>\n",
       "    </tr>\n",
       "    <tr>\n",
       "      <th>Exponential</th>\n",
       "      <td>0.983669</td>\n",
       "    </tr>\n",
       "  </tbody>\n",
       "</table>\n",
       "</div>"
      ],
      "text/plain": [
       "             R-squared\n",
       "Linear        0.602054\n",
       "Quadratic     0.878371\n",
       "Exponential   0.983669"
      ]
     },
     "metadata": {},
     "output_type": "display_data"
    },
    {
     "data": {
      "text/html": [
       "<iframe\n",
       "    scrolling=\"no\"\n",
       "    width=\"100%\"\n",
       "    height=\"545px\"\n",
       "    src=\"iframe_figures/figure_47.html\"\n",
       "    frameborder=\"0\"\n",
       "    allowfullscreen\n",
       "></iframe>\n"
      ]
     },
     "metadata": {},
     "output_type": "display_data"
    }
   ],
   "source": [
    "# Create function\n",
    "def create_plot_and_fit(df: pd.DataFrame) -> tuple:\n",
    "    '''\n",
    "    '''\n",
    "\n",
    "    # Assign x and y data\n",
    "    x_data = df['year']\n",
    "    y_data = df['ev_sales_share']\n",
    "    \n",
    "    # Define the R-squared function\n",
    "    def r_squared(y, y_pred):\n",
    "        residual = np.sum((y - y_pred) ** 2)\n",
    "        total = np.sum((y - np.mean(y)) ** 2)\n",
    "        r_sq = 1 - (residual / total)\n",
    "        return r_sq\n",
    "    \n",
    "    # Fit a linear model to the data\n",
    "    def linear_func(x, a, b):\n",
    "        return a * x + b\n",
    "    \n",
    "    linear_params, _ = curve_fit(linear_func, x_data, y_data)\n",
    "    \n",
    "    # Fit a quadratic model to the data\n",
    "    def quadratic_func(x, a, b, c):\n",
    "        return a * x**2 + b * x + c\n",
    "    \n",
    "    quadratic_guesses = [1, 1, 1]  # Initial guesses for the quadratic fit\n",
    "    quadratic_params, _ = curve_fit(quadratic_func, x_data, y_data, p0=quadratic_guesses)\n",
    "    \n",
    "    # Fit an exponential model to the data\n",
    "    def exponential_func(x, a, b, c):\n",
    "        return a * np.exp(b * (x - 2010)) + c\n",
    "    \n",
    "    exponential_guesses = [1, 1, 1]  # Initial guesses for the exponential fit\n",
    "    exponential_params, _ = curve_fit(exponential_func, x_data, y_data, p0=exponential_guesses)\n",
    "    \n",
    "    # Calculate R-squared values\n",
    "    r_squared_values = {\n",
    "        'Linear': r_squared(y_data, linear_func(x_data, *linear_params)),\n",
    "        'Quadratic': r_squared(y_data, quadratic_func(x_data, *quadratic_params)),\n",
    "        'Exponential': r_squared(y_data, exponential_func(x_data, *exponential_params))\n",
    "    }\n",
    "    \n",
    "    # Create a DataFrame with R-squared values\n",
    "    r_squared_values_df = pd.DataFrame.from_dict(r_squared_values, orient='index', columns=['R-squared'])\n",
    "    \n",
    "    # Visualize the data and fits using Plotly\n",
    "    fig = go.Figure()\n",
    "    \n",
    "    # Original data points\n",
    "    fig.add_trace(go.Bar(x=x_data, y=y_data, name='Electric', marker_color='#90EE90'))\n",
    "    \n",
    "    # Linear fit\n",
    "    linear_fit = linear_func(x_data, *linear_params)\n",
    "    fig.add_trace(go.Scatter(x=x_data, y=linear_fit, mode='lines', name='Linear Fit', line=dict(color='#f39c12', dash='dashdot')))\n",
    "    \n",
    "    # Quadratic fit\n",
    "    quadratic_fit = quadratic_func(x_data, *quadratic_params)\n",
    "    fig.add_trace(go.Scatter(x=x_data, y=quadratic_fit, mode='lines', name='Quadratic Fit', line=dict(color='#27ae60', dash='dash')))\n",
    "    \n",
    "    # Exponential fit\n",
    "    exponential_fit = exponential_func(x_data, *exponential_params)\n",
    "    fig.add_trace(go.Scatter(x=x_data, y=exponential_fit, mode='lines', name='Exponential Fit', line=dict(color='#e74c3c', width=3)))\n",
    "    \n",
    "    fig.update_layout(\n",
    "        title=\"Car Sales Share\",\n",
    "        xaxis_title=\"\",\n",
    "        yaxis_title=\"Sales Share (%)\",\n",
    "        xaxis={'type': 'category'}\n",
    "    )\n",
    "\n",
    "    return fig, r_squared_values_df\n",
    "\n",
    "\n",
    "df1 = df[df['region'] == 'China']\n",
    "\n",
    "fig , r_squared_values_df = create_plot_and_fit(df1)\n",
    "\n",
    "display(r_squared_values_df)\n",
    "fig.show()"
   ]
  },
  {
   "cell_type": "markdown",
   "id": "3a5144f5-1172-4d63-84f0-57e0959c8f85",
   "metadata": {},
   "source": [
    "## Sales Leader by Country"
   ]
  },
  {
   "cell_type": "code",
   "execution_count": 64,
   "id": "0e7edbf2-eb0c-49f2-ac10-390329b9abf6",
   "metadata": {},
   "outputs": [
    {
     "data": {
      "text/html": [
       "<style type=\"text/css\">\n",
       "</style>\n",
       "<table id=\"T_f108f\">\n",
       "  <thead>\n",
       "    <tr>\n",
       "      <th id=\"T_f108f_level0_col0\" class=\"col_heading level0 col0\" >ev_sales_rank</th>\n",
       "      <th id=\"T_f108f_level0_col1\" class=\"col_heading level0 col1\" >region</th>\n",
       "      <th id=\"T_f108f_level0_col2\" class=\"col_heading level0 col2\" >ev_sales_country_share</th>\n",
       "      <th id=\"T_f108f_level0_col3\" class=\"col_heading level0 col3\" >ev_sales</th>\n",
       "    </tr>\n",
       "  </thead>\n",
       "  <tbody>\n",
       "    <tr>\n",
       "      <td id=\"T_f108f_row0_col0\" class=\"data row0 col0\" >1</td>\n",
       "      <td id=\"T_f108f_row0_col1\" class=\"data row0 col1\" >China</td>\n",
       "      <td id=\"T_f108f_row0_col2\" class=\"data row0 col2\" >60.300000</td>\n",
       "      <td id=\"T_f108f_row0_col3\" class=\"data row0 col3\" >4400000</td>\n",
       "    </tr>\n",
       "    <tr>\n",
       "      <td id=\"T_f108f_row1_col0\" class=\"data row1 col0\" >2</td>\n",
       "      <td id=\"T_f108f_row1_col1\" class=\"data row1 col1\" >USA</td>\n",
       "      <td id=\"T_f108f_row1_col2\" class=\"data row1 col2\" >11.000000</td>\n",
       "      <td id=\"T_f108f_row1_col3\" class=\"data row1 col3\" >800000</td>\n",
       "    </tr>\n",
       "    <tr>\n",
       "      <td id=\"T_f108f_row2_col0\" class=\"data row2 col0\" >3</td>\n",
       "      <td id=\"T_f108f_row2_col1\" class=\"data row2 col1\" >Germany</td>\n",
       "      <td id=\"T_f108f_row2_col2\" class=\"data row2 col2\" >6.400000</td>\n",
       "      <td id=\"T_f108f_row2_col3\" class=\"data row2 col3\" >470000</td>\n",
       "    </tr>\n",
       "    <tr>\n",
       "      <td id=\"T_f108f_row3_col0\" class=\"data row3 col0\" >4</td>\n",
       "      <td id=\"T_f108f_row3_col1\" class=\"data row3 col1\" >United Kingdom</td>\n",
       "      <td id=\"T_f108f_row3_col2\" class=\"data row3 col2\" >3.700000</td>\n",
       "      <td id=\"T_f108f_row3_col3\" class=\"data row3 col3\" >270000</td>\n",
       "    </tr>\n",
       "    <tr>\n",
       "      <td id=\"T_f108f_row4_col0\" class=\"data row4 col0\" >5</td>\n",
       "      <td id=\"T_f108f_row4_col1\" class=\"data row4 col1\" >France</td>\n",
       "      <td id=\"T_f108f_row4_col2\" class=\"data row4 col2\" >2.900000</td>\n",
       "      <td id=\"T_f108f_row4_col3\" class=\"data row4 col3\" >210000</td>\n",
       "    </tr>\n",
       "    <tr>\n",
       "      <td id=\"T_f108f_row5_col0\" class=\"data row5 col0\" >6</td>\n",
       "      <td id=\"T_f108f_row5_col1\" class=\"data row5 col1\" >Norway</td>\n",
       "      <td id=\"T_f108f_row5_col2\" class=\"data row5 col2\" >2.100000</td>\n",
       "      <td id=\"T_f108f_row5_col3\" class=\"data row5 col3\" >150000</td>\n",
       "    </tr>\n",
       "    <tr>\n",
       "      <td id=\"T_f108f_row6_col0\" class=\"data row6 col0\" >7</td>\n",
       "      <td id=\"T_f108f_row6_col1\" class=\"data row6 col1\" >Korea</td>\n",
       "      <td id=\"T_f108f_row6_col2\" class=\"data row6 col2\" >1.600000</td>\n",
       "      <td id=\"T_f108f_row6_col3\" class=\"data row6 col3\" >120000</td>\n",
       "    </tr>\n",
       "    <tr>\n",
       "      <td id=\"T_f108f_row7_col0\" class=\"data row7 col0\" >8</td>\n",
       "      <td id=\"T_f108f_row7_col1\" class=\"data row7 col1\" >Sweden</td>\n",
       "      <td id=\"T_f108f_row7_col2\" class=\"data row7 col2\" >1.300000</td>\n",
       "      <td id=\"T_f108f_row7_col3\" class=\"data row7 col3\" >96000</td>\n",
       "    </tr>\n",
       "    <tr>\n",
       "      <td id=\"T_f108f_row8_col0\" class=\"data row8 col0\" >9</td>\n",
       "      <td id=\"T_f108f_row8_col1\" class=\"data row8 col1\" >Canada</td>\n",
       "      <td id=\"T_f108f_row8_col2\" class=\"data row8 col2\" >1.200000</td>\n",
       "      <td id=\"T_f108f_row8_col3\" class=\"data row8 col3\" >85000</td>\n",
       "    </tr>\n",
       "    <tr>\n",
       "      <td id=\"T_f108f_row9_col0\" class=\"data row9 col0\" >10</td>\n",
       "      <td id=\"T_f108f_row9_col1\" class=\"data row9 col1\" >Netherlands</td>\n",
       "      <td id=\"T_f108f_row9_col2\" class=\"data row9 col2\" >1.000000</td>\n",
       "      <td id=\"T_f108f_row9_col3\" class=\"data row9 col3\" >73000</td>\n",
       "    </tr>\n",
       "  </tbody>\n",
       "</table>\n"
      ],
      "text/plain": [
       "<pandas.io.formats.style.Styler at 0x28a6d0850>"
      ]
     },
     "execution_count": 64,
     "metadata": {},
     "output_type": "execute_result"
    }
   ],
   "source": [
    "# List regions that are not countries to filter them out\n",
    "exclude_regions = ['World','Europe','EU27','Other Europe','Rest of the world']\n",
    "\n",
    "# Filter df to get rank of countries\n",
    "sales_country_rank = df[(df['year']==2022) & (~df['region'].isin(exclude_regions))][['region','ev_sales','ev_sales_share']].sort_values('ev_sales_share', ascending = False)\n",
    "\n",
    "# Create rank column\n",
    "sales_country_rank['ev_sales_rank'] = sales_country_rank.reset_index().index + 1\n",
    "\n",
    "# Get EV global sales for 2022\n",
    "current_world_sales = df[df['region'] == 'World']['ev_sales'].tail(1).iloc[0]\n",
    "\n",
    "# Create calculated column with share of ev cars sold over total ev sales by country\n",
    "sales_country_rank['ev_sales_country_share'] = ((sales_country_rank['ev_sales'] / current_world_sales) * 100).round(1)\n",
    "\n",
    "# Show top 10 countries\n",
    "sales_country_rank = sales_country_rank[['ev_sales_rank', 'region', 'ev_sales_country_share', 'ev_sales']].head(10)\n",
    "sales_country_rank.style.hide(axis=\"index\")"
   ]
  },
  {
   "cell_type": "code",
   "execution_count": null,
   "id": "31578ed1-a326-4144-ac61-ec51a0840cc1",
   "metadata": {},
   "outputs": [],
   "source": []
  }
 ],
 "metadata": {
  "kernelspec": {
   "display_name": "ev-adoption",
   "language": "python",
   "name": "ev-adoption"
  },
  "language_info": {
   "codemirror_mode": {
    "name": "ipython",
    "version": 3
   },
   "file_extension": ".py",
   "mimetype": "text/x-python",
   "name": "python",
   "nbconvert_exporter": "python",
   "pygments_lexer": "ipython3",
   "version": "3.10.12"
  }
 },
 "nbformat": 4,
 "nbformat_minor": 5
}
