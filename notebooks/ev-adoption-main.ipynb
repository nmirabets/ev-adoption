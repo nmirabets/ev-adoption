{
 "cells": [
  {
   "cell_type": "markdown",
   "id": "e0bda6fb-f54f-4349-9781-ea9b1e5d7122",
   "metadata": {},
   "source": [
    "<img src=\"https://user-images.githubusercontent.com/23629340/40541063-a07a0a8a-601a-11e8-91b5-2f13e4e6b441.png\" alt=\"logo_ironhack_blue 7\" width=\"100\" height=\"100\">\n",
    "\n",
    "# Ironhack Mid-Bootcamp Project\n",
    "\n",
    "## Project Overview\n",
    "\n",
    "Electric Vehicles (EVs) have been around for a couple decades, but its adoption has really picked up in the last 3 years. In this project we will analyze the increasing demand of EVs and who's leading it, figure out in which stage of adoption we are (according to Everett M. Rogger's [*Diffusion of Innovation Theory*](https://en.wikipedia.org/wiki/Diffusion_of_innovations)) and try to estimate how long will it take for the all car transportation to become electric by finding the EV adoption curve.\n",
    "\n",
    "According to Rogers, when analyzing the adoption of an innovation, the population penetration follows a **normal distribution** and therefore the market share curve will follow its **cumulative distribution function**.\n",
    "<div align=\"center\">\n",
    "<img src=\"http://steveboese.squarespace.com/storage/adoption_of_tech_no_title.jpg?__SQUARESPACE_CACHEVERSION=1450230149150\" alt=\"Adoption curve examples\" width=\"500\">\n",
    "<img src=\"https://i0.wp.com/ondigitalmarketing.com/wp-content/uploads/2012/01/640px-Diffusionofideas.png?ssl=1\" alt=\"Adoption curve\" width=\"500\">\n",
    "</div>\n",
    "\n",
    "\n",
    "\n",
    "## Objective\n",
    "The objective if this project is to answer the following questions:\n",
    "1. What is the current stage of Electric Vehicle (EV) adoption? Are we in the phase of Innovators, Early adopters, Early majority, Late majority, or Laggards?\n",
    "2. Which countries are leading the adoption of EVs? And lagging in the adoption?\n",
    "3. Which countries are adopting EV's faster (rate of adoption)?\n",
    "4. What trend (linear, cuadratic, exponential...) is EV adoption currently following?\n",
    "5. How long will full EV adoption take?\n",
    "\n",
    "Extra:\n",
    "1. Which companies are leading the transition from ICE (Internal Combustion Engine) vehicles to EVs?\n",
    "2. Compare the adoption of electric cars to other vehicles (trucks, vans and buses)\n",
    "\n",
    "### Finding the EV adoption curve:\n",
    "+ Assuming our datapoints follow a normal distribution, our sales share data points correspond to x values in the Cumulative Distribution Function:\n",
    "    + $CDF = \\Phi(x) = 0.5 * [1 + \\frac{erf((x - \\mu)}{(\\sigma * \\sqrt{2}))}]$ where μ is the mean, σ is the standard deviation, and erf() is the error function. We want to find μ and σ so that this equation holds for all of our points. This leads to a system of n nonlinear equations.\n",
    "    + Using scipy's least squares solver we will atempt to solve for μ & σ.\n",
    "        + Other options: multiplicadores de Lagrange, https://docs.scipy.org/doc/scipy/reference/optimize.html\n",
    "    + Three different scenarios will be estimated: (1) pessimistic, (2) moderate, and (3) optimistic\n",
    "\n",
    "## Datasets\n",
    "\n",
    "+ 2010-2022 Global data on EV sales -> [Global EV Data Explorer](https://www.iea.org/data-and-statistics/data-tools/global-ev-data-explorer)\n",
    "+ 2010-2022 Global data on car sales -> [Global Passenger Car Sales](https://www.iea.org/data-and-statistics/charts/passenger-car-sales-2010-2022)\n",
    "+ Historical data on company sales and sales share:\n",
    "    + [Best Selling Cars](https://www.best-selling-cars.com/brands/2021-full-year-global-volkswagen-brand-worldwide-car-sales-by-model-and-country/)\n",
    "    + [Toyota](https://global.toyota/en/newsroom/corporate/20966057.html)\n",
    "    + [EV Adoption](https://evadoption.com/ev-sales/evs-percent-of-vehicle-sales-by-brand/)"
   ]
  },
  {
   "cell_type": "markdown",
   "id": "cf009bea-4bad-4be6-b6ac-3e8cc2b1303d",
   "metadata": {},
   "source": [
    "# 1 Load libraries"
   ]
  },
  {
   "cell_type": "code",
   "execution_count": 1,
   "id": "b07b155f-08b8-4ed8-80b4-595d67956014",
   "metadata": {},
   "outputs": [],
   "source": [
    "import numpy as np\n",
    "import pandas as pd\n",
    "import seaborn as sns\n",
    "import matplotlib.pyplot as plt\n",
    "from scipy.stats import norm\n",
    "from scipy.optimize import curve_fit"
   ]
  },
  {
   "cell_type": "markdown",
   "id": "924963d2-b834-432d-b3ec-ca54433aa946",
   "metadata": {},
   "source": [
    "# 2 Data Cleaning"
   ]
  },
  {
   "cell_type": "markdown",
   "id": "cfd94c21-c849-40ab-bd31-ad9ffea51712",
   "metadata": {},
   "source": [
    "## 2.1 Load & Save Raw Data"
   ]
  },
  {
   "cell_type": "code",
   "execution_count": 2,
   "id": "cae19ff6-0a46-4f03-ac5b-eb3d23756e97",
   "metadata": {},
   "outputs": [
    {
     "data": {
      "text/html": [
       "<div>\n",
       "<style scoped>\n",
       "    .dataframe tbody tr th:only-of-type {\n",
       "        vertical-align: middle;\n",
       "    }\n",
       "\n",
       "    .dataframe tbody tr th {\n",
       "        vertical-align: top;\n",
       "    }\n",
       "\n",
       "    .dataframe thead th {\n",
       "        text-align: right;\n",
       "    }\n",
       "</style>\n",
       "<table border=\"1\" class=\"dataframe\">\n",
       "  <thead>\n",
       "    <tr style=\"text-align: right;\">\n",
       "      <th></th>\n",
       "      <th>year</th>\n",
       "      <th>value</th>\n",
       "    </tr>\n",
       "  </thead>\n",
       "  <tbody>\n",
       "    <tr>\n",
       "      <th>0</th>\n",
       "      <td>2010</td>\n",
       "      <td>66700000</td>\n",
       "    </tr>\n",
       "    <tr>\n",
       "      <th>1</th>\n",
       "      <td>2011</td>\n",
       "      <td>71200000</td>\n",
       "    </tr>\n",
       "    <tr>\n",
       "      <th>2</th>\n",
       "      <td>2012</td>\n",
       "      <td>73800000</td>\n",
       "    </tr>\n",
       "    <tr>\n",
       "      <th>3</th>\n",
       "      <td>2013</td>\n",
       "      <td>77500000</td>\n",
       "    </tr>\n",
       "    <tr>\n",
       "      <th>4</th>\n",
       "      <td>2014</td>\n",
       "      <td>80000000</td>\n",
       "    </tr>\n",
       "    <tr>\n",
       "      <th>5</th>\n",
       "      <td>2015</td>\n",
       "      <td>81800000</td>\n",
       "    </tr>\n",
       "    <tr>\n",
       "      <th>6</th>\n",
       "      <td>2016</td>\n",
       "      <td>86400000</td>\n",
       "    </tr>\n",
       "    <tr>\n",
       "      <th>7</th>\n",
       "      <td>2017</td>\n",
       "      <td>86300000</td>\n",
       "    </tr>\n",
       "    <tr>\n",
       "      <th>8</th>\n",
       "      <td>2018</td>\n",
       "      <td>85600000</td>\n",
       "    </tr>\n",
       "    <tr>\n",
       "      <th>9</th>\n",
       "      <td>2019</td>\n",
       "      <td>81300000</td>\n",
       "    </tr>\n",
       "    <tr>\n",
       "      <th>10</th>\n",
       "      <td>2020</td>\n",
       "      <td>71800000</td>\n",
       "    </tr>\n",
       "    <tr>\n",
       "      <th>11</th>\n",
       "      <td>2021</td>\n",
       "      <td>74900000</td>\n",
       "    </tr>\n",
       "    <tr>\n",
       "      <th>12</th>\n",
       "      <td>2022</td>\n",
       "      <td>74800000</td>\n",
       "    </tr>\n",
       "  </tbody>\n",
       "</table>\n",
       "</div>"
      ],
      "text/plain": [
       "    year     value\n",
       "0   2010  66700000\n",
       "1   2011  71200000\n",
       "2   2012  73800000\n",
       "3   2013  77500000\n",
       "4   2014  80000000\n",
       "5   2015  81800000\n",
       "6   2016  86400000\n",
       "7   2017  86300000\n",
       "8   2018  85600000\n",
       "9   2019  81300000\n",
       "10  2020  71800000\n",
       "11  2021  74900000\n",
       "12  2022  74800000"
      ]
     },
     "execution_count": 2,
     "metadata": {},
     "output_type": "execute_result"
    }
   ],
   "source": [
    "# Global car sales extracted manually from Internation Energy Agency (IEA) website\n",
    "car_sales = {'year':[2010, 2011, 2012, 2013, 2014, 2015, 2016, 2017, 2018, 2019, 2020, 2021, 2022],\n",
    "             'value': [66700000,71200000,73800000,77500000,80000000,81800000,86400000,86300000,85600000,81300000,71800000,74900000,74800000]}\n",
    "\n",
    "# Convert dictionary into Pandas Dataframe\n",
    "car_sales_df = pd.DataFrame(car_sales)\n",
    "\n",
    "# Save raw data as .csv\n",
    "car_sales_df.to_csv('../data/raw_data/car_sales_raw.csv',index = False, sep=\",\")\n",
    "\n",
    "# Show data\n",
    "car_sales_df"
   ]
  },
  {
   "cell_type": "code",
   "execution_count": 3,
   "id": "e5bd8660-fc71-4123-a1cd-9638fba30d08",
   "metadata": {},
   "outputs": [
    {
     "data": {
      "text/html": [
       "<div>\n",
       "<style scoped>\n",
       "    .dataframe tbody tr th:only-of-type {\n",
       "        vertical-align: middle;\n",
       "    }\n",
       "\n",
       "    .dataframe tbody tr th {\n",
       "        vertical-align: top;\n",
       "    }\n",
       "\n",
       "    .dataframe thead th {\n",
       "        text-align: right;\n",
       "    }\n",
       "</style>\n",
       "<table border=\"1\" class=\"dataframe\">\n",
       "  <thead>\n",
       "    <tr style=\"text-align: right;\">\n",
       "      <th></th>\n",
       "      <th>region</th>\n",
       "      <th>category</th>\n",
       "      <th>parameter</th>\n",
       "      <th>mode</th>\n",
       "      <th>powertrain</th>\n",
       "      <th>year</th>\n",
       "      <th>unit</th>\n",
       "      <th>value</th>\n",
       "    </tr>\n",
       "  </thead>\n",
       "  <tbody>\n",
       "    <tr>\n",
       "      <th>0</th>\n",
       "      <td>Australia</td>\n",
       "      <td>Historical</td>\n",
       "      <td>EV sales</td>\n",
       "      <td>Cars</td>\n",
       "      <td>BEV</td>\n",
       "      <td>2011</td>\n",
       "      <td>Vehicles</td>\n",
       "      <td>49</td>\n",
       "    </tr>\n",
       "    <tr>\n",
       "      <th>1</th>\n",
       "      <td>Australia</td>\n",
       "      <td>Historical</td>\n",
       "      <td>EV sales</td>\n",
       "      <td>Cars</td>\n",
       "      <td>BEV</td>\n",
       "      <td>2012</td>\n",
       "      <td>Vehicles</td>\n",
       "      <td>170</td>\n",
       "    </tr>\n",
       "    <tr>\n",
       "      <th>2</th>\n",
       "      <td>Australia</td>\n",
       "      <td>Historical</td>\n",
       "      <td>EV sales</td>\n",
       "      <td>Cars</td>\n",
       "      <td>PHEV</td>\n",
       "      <td>2012</td>\n",
       "      <td>Vehicles</td>\n",
       "      <td>80</td>\n",
       "    </tr>\n",
       "    <tr>\n",
       "      <th>3</th>\n",
       "      <td>Australia</td>\n",
       "      <td>Historical</td>\n",
       "      <td>EV sales</td>\n",
       "      <td>Cars</td>\n",
       "      <td>PHEV</td>\n",
       "      <td>2013</td>\n",
       "      <td>Vehicles</td>\n",
       "      <td>100</td>\n",
       "    </tr>\n",
       "    <tr>\n",
       "      <th>4</th>\n",
       "      <td>Australia</td>\n",
       "      <td>Historical</td>\n",
       "      <td>EV sales</td>\n",
       "      <td>Cars</td>\n",
       "      <td>BEV</td>\n",
       "      <td>2013</td>\n",
       "      <td>Vehicles</td>\n",
       "      <td>190</td>\n",
       "    </tr>\n",
       "  </tbody>\n",
       "</table>\n",
       "</div>"
      ],
      "text/plain": [
       "      region    category parameter  mode powertrain  year      unit  value\n",
       "0  Australia  Historical  EV sales  Cars        BEV  2011  Vehicles     49\n",
       "1  Australia  Historical  EV sales  Cars        BEV  2012  Vehicles    170\n",
       "2  Australia  Historical  EV sales  Cars       PHEV  2012  Vehicles     80\n",
       "3  Australia  Historical  EV sales  Cars       PHEV  2013  Vehicles    100\n",
       "4  Australia  Historical  EV sales  Cars        BEV  2013  Vehicles    190"
      ]
     },
     "metadata": {},
     "output_type": "display_data"
    },
    {
     "data": {
      "text/plain": [
       "(834, 8)"
      ]
     },
     "metadata": {},
     "output_type": "display_data"
    }
   ],
   "source": [
    "# IEA Global EV Data Explorer API url\n",
    "api_url = 'https://api.iea.org/evs/?parameter=EV%20sales&mode=Cars&category=Historical&csv=true'\n",
    "\n",
    "# Download data from IEA website\n",
    "ev_sales_df = pd.read_csv(api_url)\n",
    "\n",
    "# Save raw data as .csv\n",
    "ev_sales_df.to_csv('../data/raw_data/ev_sales_raw.csv',index = False, sep=\",\")\n",
    "\n",
    "# Initial dataset overview\n",
    "display(ev_sales_df.head())\n",
    "display(ev_sales_df.shape)"
   ]
  },
  {
   "cell_type": "markdown",
   "id": "c568b65d-145c-4f56-be4d-e2b984cbb688",
   "metadata": {},
   "source": [
    "## 2.2 Explore Data\n",
    "In this initial data exploration we will explore the ev_sales dataset:\n",
    "+ study which columns will be useful\n",
    "+ check for any missing data points\n",
    "  \n",
    "car_sales has been extracted manually. There is one value for each year and no missing year values."
   ]
  },
  {
   "cell_type": "code",
   "execution_count": 4,
   "id": "a4c6c025-83f9-477d-bab5-ea0660570b3e",
   "metadata": {},
   "outputs": [
    {
     "data": {
      "text/plain": [
       "region\n",
       "World                26\n",
       "Belgium              26\n",
       "United Kingdom       26\n",
       "China                26\n",
       "EU27                 26\n",
       "Europe               26\n",
       "Germany              25\n",
       "USA                  25\n",
       "Spain                25\n",
       "Poland               25\n",
       "New Zealand          25\n",
       "Netherlands          25\n",
       "Japan                25\n",
       "France               25\n",
       "Norway               24\n",
       "Canada               24\n",
       "Switzerland          24\n",
       "Sweden               24\n",
       "Denmark              24\n",
       "Other Europe         23\n",
       "Rest of the world    23\n",
       "Portugal             23\n",
       "Australia            23\n",
       "Finland              23\n",
       "Italy                23\n",
       "Israel               23\n",
       "Iceland              22\n",
       "Korea                21\n",
       "Chile                21\n",
       "Brazil               21\n",
       "Mexico               20\n",
       "Turkiye              20\n",
       "South Africa         19\n",
       "Austria              18\n",
       "Greece               18\n",
       "India                17\n",
       "Name: count, dtype: int64"
      ]
     },
     "metadata": {},
     "output_type": "display_data"
    },
    {
     "data": {
      "text/plain": [
       "category\n",
       "Historical    834\n",
       "Name: count, dtype: int64"
      ]
     },
     "metadata": {},
     "output_type": "display_data"
    },
    {
     "data": {
      "text/plain": [
       "parameter\n",
       "EV sales    834\n",
       "Name: count, dtype: int64"
      ]
     },
     "metadata": {},
     "output_type": "display_data"
    },
    {
     "data": {
      "text/plain": [
       "mode\n",
       "Cars    834\n",
       "Name: count, dtype: int64"
      ]
     },
     "metadata": {},
     "output_type": "display_data"
    },
    {
     "data": {
      "text/plain": [
       "powertrain\n",
       "BEV     443\n",
       "PHEV    391\n",
       "Name: count, dtype: int64"
      ]
     },
     "metadata": {},
     "output_type": "display_data"
    },
    {
     "data": {
      "text/plain": [
       "year\n",
       "2019    72\n",
       "2020    72\n",
       "2021    72\n",
       "2022    72\n",
       "2015    71\n",
       "2016    71\n",
       "2017    71\n",
       "2018    71\n",
       "2014    66\n",
       "2013    63\n",
       "2012    59\n",
       "2011    46\n",
       "2010    28\n",
       "Name: count, dtype: int64"
      ]
     },
     "metadata": {},
     "output_type": "display_data"
    },
    {
     "data": {
      "text/plain": [
       "unit\n",
       "Vehicles    834\n",
       "Name: count, dtype: int64"
      ]
     },
     "metadata": {},
     "output_type": "display_data"
    },
    {
     "data": {
      "text/plain": [
       "value\n",
       "1200       12\n",
       "16000      11\n",
       "15000      11\n",
       "11000      10\n",
       "1500       10\n",
       "           ..\n",
       "88000       1\n",
       "870000      1\n",
       "510000      1\n",
       "540000      1\n",
       "2900000     1\n",
       "Name: count, Length: 328, dtype: int64"
      ]
     },
     "metadata": {},
     "output_type": "display_data"
    }
   ],
   "source": [
    "# Show values por each column of ev_sales_df\n",
    "for column in ev_sales_df.columns:\n",
    "    display(ev_sales_df[column].value_counts())"
   ]
  },
  {
   "cell_type": "markdown",
   "id": "52046ad4-eaa3-429a-b8cf-7a8ffa7d9607",
   "metadata": {},
   "source": [
    "+ In the initial data overview we have found that:\n",
    "    + 'powertrain' divides ev_sales into PHEV (Plug-in Hybrid Vehicles) and BEV (Battery Electric Vehicles). Since we are only interested in BEV, we will **filter PHEV rows out** and **drop 'powertrain'** column\n",
    "    + **'category', 'parameter', 'mode', and 'unit'** columns only have 1 possible value. Therefore those columns will be **dropped**.\n",
    "\n",
    "    + 'region' and 'year' have different number of rows. This indicates we have some missing data. This can be due to:\n",
    "        + years with 0 sales are excluded (year starts when there are sales), which is in agreement with the 'value' range seen\n",
    "        + there are missing values for some years\n"
   ]
  },
  {
   "cell_type": "markdown",
   "id": "c4e8aad9-93be-4e51-8b24-392a5aa5d82d",
   "metadata": {},
   "source": [
    "## 2.3 Filter & Clean Data\n",
    "+ We will **apply the actions in bold stated in the section above** and continue to study the years for each region to decide on next actions."
   ]
  },
  {
   "cell_type": "code",
   "execution_count": 5,
   "id": "5768ddd2-4e23-45b4-9b97-3c5292a98b6f",
   "metadata": {},
   "outputs": [
    {
     "data": {
      "text/html": [
       "<div>\n",
       "<style scoped>\n",
       "    .dataframe tbody tr th:only-of-type {\n",
       "        vertical-align: middle;\n",
       "    }\n",
       "\n",
       "    .dataframe tbody tr th {\n",
       "        vertical-align: top;\n",
       "    }\n",
       "\n",
       "    .dataframe thead th {\n",
       "        text-align: right;\n",
       "    }\n",
       "</style>\n",
       "<table border=\"1\" class=\"dataframe\">\n",
       "  <thead>\n",
       "    <tr style=\"text-align: right;\">\n",
       "      <th></th>\n",
       "      <th>region</th>\n",
       "      <th>year</th>\n",
       "      <th>value</th>\n",
       "    </tr>\n",
       "  </thead>\n",
       "  <tbody>\n",
       "    <tr>\n",
       "      <th>0</th>\n",
       "      <td>Australia</td>\n",
       "      <td>2011</td>\n",
       "      <td>49</td>\n",
       "    </tr>\n",
       "    <tr>\n",
       "      <th>1</th>\n",
       "      <td>Australia</td>\n",
       "      <td>2012</td>\n",
       "      <td>170</td>\n",
       "    </tr>\n",
       "    <tr>\n",
       "      <th>4</th>\n",
       "      <td>Australia</td>\n",
       "      <td>2013</td>\n",
       "      <td>190</td>\n",
       "    </tr>\n",
       "    <tr>\n",
       "      <th>5</th>\n",
       "      <td>Australia</td>\n",
       "      <td>2014</td>\n",
       "      <td>370</td>\n",
       "    </tr>\n",
       "    <tr>\n",
       "      <th>8</th>\n",
       "      <td>Australia</td>\n",
       "      <td>2015</td>\n",
       "      <td>760</td>\n",
       "    </tr>\n",
       "  </tbody>\n",
       "</table>\n",
       "</div>"
      ],
      "text/plain": [
       "      region  year  value\n",
       "0  Australia  2011     49\n",
       "1  Australia  2012    170\n",
       "4  Australia  2013    190\n",
       "5  Australia  2014    370\n",
       "8  Australia  2015    760"
      ]
     },
     "metadata": {},
     "output_type": "display_data"
    }
   ],
   "source": [
    "# Create a dataframe copy to work this section\n",
    "ev_sales_df1 = ev_sales_df.copy()\n",
    "\n",
    "# Filter BEV to discard PHEV\n",
    "ev_sales_df1 = ev_sales_df1[ev_sales_df1['powertrain'] == 'BEV']\n",
    "\n",
    "# Drop all columns with only 1 value\n",
    "ev_sales_df1.drop(['category','parameter','mode','powertrain','unit'], axis=1, inplace=True)\n",
    "\n",
    "# Check top 5 rows\n",
    "display(ev_sales_df1.head())"
   ]
  },
  {
   "cell_type": "markdown",
   "id": "84e2a7b4-f863-449d-b4fa-e6a59723aa9b",
   "metadata": {},
   "source": [
    "In the *.value_counts()* above we have seen that there are no 0's in the 'value' column. This suggests that the missing years are the ones where there where no sales. Furthermore, the *.value_counts()* for the years agrees with this statement: earlier years have less values than the most recent ones. However, this doesn't 100% confirm there are no missing rows (years) for all countries. To confirm this, we will have to **check year continuity from the last year (2022) back**."
   ]
  },
  {
   "cell_type": "code",
   "execution_count": 6,
   "id": "2428ead6-f357-4731-920e-37f99a5bf07d",
   "metadata": {},
   "outputs": [],
   "source": [
    "# Create a function that check for continuity in the years for each region\n",
    "def check_continuity(df):\n",
    "    df = df.sort_values(['region', 'year']) # sort values by region and year to ensure chronological order\n",
    "    missing = []\n",
    "    for region, group in df.groupby('region'): # iterate df by region groups\n",
    "        diffs = group['year'].diff() # calculate \n",
    "        if not diffs.isin([1, None]).all():  # if there's a difference greater than 1 year\n",
    "            years = group['year'][diffs > 1]\n",
    "            for year in years:\n",
    "                missing.append((region, year - 1))  # previous year is missing\n",
    "    return missing"
   ]
  },
  {
   "cell_type": "code",
   "execution_count": 7,
   "id": "0fa31fac-a248-4814-9d00-c1216ee063af",
   "metadata": {},
   "outputs": [
    {
     "data": {
      "text/plain": [
       "[('Turkiye', 2013)]"
      ]
     },
     "execution_count": 7,
     "metadata": {},
     "output_type": "execute_result"
    }
   ],
   "source": [
    "# Apply check_continuity function\n",
    "check_continuity(ev_sales_df1)"
   ]
  },
  {
   "cell_type": "markdown",
   "id": "aace927c-8ad3-4646-ad2d-88c1d6120e09",
   "metadata": {},
   "source": [
    "The only missing value appears to be for region Turkiye, year 2013."
   ]
  },
  {
   "cell_type": "code",
   "execution_count": 8,
   "id": "2642c239-0b36-4e94-83a1-f40637276a6a",
   "metadata": {},
   "outputs": [
    {
     "data": {
      "text/html": [
       "<div>\n",
       "<style scoped>\n",
       "    .dataframe tbody tr th:only-of-type {\n",
       "        vertical-align: middle;\n",
       "    }\n",
       "\n",
       "    .dataframe tbody tr th {\n",
       "        vertical-align: top;\n",
       "    }\n",
       "\n",
       "    .dataframe thead th {\n",
       "        text-align: right;\n",
       "    }\n",
       "</style>\n",
       "<table border=\"1\" class=\"dataframe\">\n",
       "  <thead>\n",
       "    <tr style=\"text-align: right;\">\n",
       "      <th></th>\n",
       "      <th>region</th>\n",
       "      <th>year</th>\n",
       "      <th>value</th>\n",
       "    </tr>\n",
       "  </thead>\n",
       "  <tbody>\n",
       "    <tr>\n",
       "      <th>737</th>\n",
       "      <td>Turkiye</td>\n",
       "      <td>2012</td>\n",
       "      <td>92</td>\n",
       "    </tr>\n",
       "    <tr>\n",
       "      <th>740</th>\n",
       "      <td>Turkiye</td>\n",
       "      <td>2014</td>\n",
       "      <td>46</td>\n",
       "    </tr>\n",
       "    <tr>\n",
       "      <th>741</th>\n",
       "      <td>Turkiye</td>\n",
       "      <td>2015</td>\n",
       "      <td>120</td>\n",
       "    </tr>\n",
       "    <tr>\n",
       "      <th>744</th>\n",
       "      <td>Turkiye</td>\n",
       "      <td>2016</td>\n",
       "      <td>44</td>\n",
       "    </tr>\n",
       "    <tr>\n",
       "      <th>745</th>\n",
       "      <td>Turkiye</td>\n",
       "      <td>2017</td>\n",
       "      <td>77</td>\n",
       "    </tr>\n",
       "    <tr>\n",
       "      <th>748</th>\n",
       "      <td>Turkiye</td>\n",
       "      <td>2018</td>\n",
       "      <td>190</td>\n",
       "    </tr>\n",
       "    <tr>\n",
       "      <th>749</th>\n",
       "      <td>Turkiye</td>\n",
       "      <td>2019</td>\n",
       "      <td>230</td>\n",
       "    </tr>\n",
       "    <tr>\n",
       "      <th>752</th>\n",
       "      <td>Turkiye</td>\n",
       "      <td>2020</td>\n",
       "      <td>890</td>\n",
       "    </tr>\n",
       "    <tr>\n",
       "      <th>754</th>\n",
       "      <td>Turkiye</td>\n",
       "      <td>2021</td>\n",
       "      <td>3000</td>\n",
       "    </tr>\n",
       "    <tr>\n",
       "      <th>755</th>\n",
       "      <td>Turkiye</td>\n",
       "      <td>2022</td>\n",
       "      <td>7000</td>\n",
       "    </tr>\n",
       "  </tbody>\n",
       "</table>\n",
       "</div>"
      ],
      "text/plain": [
       "      region  year  value\n",
       "737  Turkiye  2012     92\n",
       "740  Turkiye  2014     46\n",
       "741  Turkiye  2015    120\n",
       "744  Turkiye  2016     44\n",
       "745  Turkiye  2017     77\n",
       "748  Turkiye  2018    190\n",
       "749  Turkiye  2019    230\n",
       "752  Turkiye  2020    890\n",
       "754  Turkiye  2021   3000\n",
       "755  Turkiye  2022   7000"
      ]
     },
     "execution_count": 8,
     "metadata": {},
     "output_type": "execute_result"
    }
   ],
   "source": [
    "# Check missing value group\n",
    "ev_sales_df1[ev_sales_df1['region'] == 'Turkiye']"
   ]
  },
  {
   "cell_type": "markdown",
   "id": "eb58f3a0-8dd0-4caf-bd1a-19511029ce6b",
   "metadata": {},
   "source": [
    "Sales around year 2013 in Turkiye were really low. In 2012, 92 cars were sold and in 2014, 46 cars were sold. Therefore we conclude the actual sales in Turkiye for the year 2013 were actually 0 - there are no missing values."
   ]
  },
  {
   "cell_type": "code",
   "execution_count": 9,
   "id": "d7af61e9-66ec-4ed3-acba-538b9ae2b726",
   "metadata": {},
   "outputs": [],
   "source": [
    "# Sort by region and year to ensure chronological order and reset index of dataframe\n",
    "ev_sales_df1 = ev_sales_df1.sort_values(['region', 'year']).reset_index(drop=True)"
   ]
  },
  {
   "cell_type": "markdown",
   "id": "960f5e7a-6224-48ca-a8f6-9ce25e02379d",
   "metadata": {},
   "source": [
    "## 2.4 Merge Datasets\n",
    "+ We will now  combine the two datasets: **car_sales_df** and **ev_sales_df1**. To do this we will:\n",
    "+ **Rename** the column **'value'** in the ev_sales_df to **'ev_sales'**\n",
    "+ **Add a calculated column** to the ev_sales_df1 called **ev_sales_share**, calculated as: *ev_sales_share = ev_sales / car_sales.value*\n",
    "+ **Add a new calculated column** to the ev_sales_df1 **'ev_sales_share_change'** to track the share change year by year. *'ev_sales_share_change' = 'ev_sales_share'(current year) - 'ev_sales_share'(previous year)"
   ]
  },
  {
   "cell_type": "code",
   "execution_count": 10,
   "id": "dd848caa-58aa-40ca-b813-b55f6201c1ed",
   "metadata": {},
   "outputs": [],
   "source": [
    "# Create a copy of the ev_sales_df for this section\n",
    "ev_sales_df2 = ev_sales_df1.copy()\n",
    "\n",
    "# Rename the column 'value' to 'ev_sales'\n",
    "ev_sales_df2.rename( columns = {'value':'ev_sales'}, inplace = True)\n",
    "\n",
    "# Add calculated column: ev_sales_share = ev_sales / car_sales.value\n",
    "ev_sales_df2 = ev_sales_df2.join(car_sales_df.set_index('year'), on='year'\n",
    "                                ).rename(columns={'value':'global_car_sales'}) # Join the global car_sales data\n",
    "ev_sales_df2['ev_sales_share'] = ((ev_sales_df2['ev_sales'] / ev_sales_df2['global_car_sales']) * 100).round(5)\n",
    "\n",
    "merged_df = pd.DataFrame()\n",
    "\n",
    "for country, group in ev_sales_df2.groupby('region'):\n",
    "    # Add calculated column: 'ev_sales_share_change' = 'ev_sales_share'(current year) - 'ev_sales_share'(previous year)\n",
    "    group['ev_sales_share_change'] = group['ev_sales_share'] - group['ev_sales_share'].shift(+1)\n",
    "    group['ev_sales_share_change'].fillna(0, inplace=True)\n",
    "    # Add calculated column: 'ev_sales_share_growth'\n",
    "    group['ev_sales_share_growth'] = ((group['ev_sales_share'] - group['ev_sales_share'].shift(+1)) / group['ev_sales_share'].shift(+1)) * 100\n",
    "    group['ev_sales_share_growth'].fillna(0, inplace=True)\n",
    "    # Add calculated column: 'ev_sales_growth'\n",
    "    group['ev_sales_growth'] = ((group['ev_sales'] - group['ev_sales'].shift(+1))/group['ev_sales'].shift(+1)) * 100\n",
    "    group['ev_sales_growth'].fillna(0, inplace=True)\n",
    "    # Concatenate the group with the merged dataframe\n",
    "    merged_df = pd.concat([merged_df, group])"
   ]
  },
  {
   "cell_type": "markdown",
   "id": "d7d7c524-c5f5-4a27-a775-15ebcd595746",
   "metadata": {},
   "source": [
    "## 2.5 Save Clean Data"
   ]
  },
  {
   "cell_type": "code",
   "execution_count": 11,
   "id": "28e9a1db-d854-46f9-b813-490414c0b429",
   "metadata": {},
   "outputs": [],
   "source": [
    "# Save clean data as .csv\n",
    "merged_df.to_csv('../data/clean_data/ev_sales_clean.csv',index = False, sep=\",\")\n",
    "df = merged_df.copy() # Create a copy to work with in the rest of the notebook"
   ]
  },
  {
   "cell_type": "markdown",
   "id": "d633e663-fc22-4b52-821c-6ee39e70d787",
   "metadata": {},
   "source": [
    "# 3 Question #1 - Current Stage of EV Adoption"
   ]
  },
  {
   "cell_type": "markdown",
   "id": "395cd594-d078-4a02-b2fe-6b99f5336dcb",
   "metadata": {},
   "source": [
    "According to Everett M. Roger's *Diffusion of Innovation Theory*, when adopting any innovation, population is divided into the following segments:\n",
    "<div align=\"center\">\n",
    "<img src=\"https://i0.wp.com/ondigitalmarketing.com/wp-content/uploads/2012/01/640px-Diffusionofideas.png?ssl=1\" alt=\"Adoption curve\" width=350\">\n",
    "</div>\n",
    "\n",
    "To find the current stage, we must calculate the acumulated percentage for each segment:\n",
    "Population segment|Accumulated percentage\n",
    "------------------|-----------------------\n",
    "Innovators|0-2.5%\n",
    "Early Adopters|2.5-16%\n",
    "Early Majority|16-50%\n",
    "Late Majority|50-84%\n",
    "Laggards|84-100%\n",
    "\n",
    "We will create a function to calculate this dinamically in case we integrate this into a real data system."
   ]
  },
  {
   "cell_type": "code",
   "execution_count": 12,
   "id": "94b1ee02-cb14-40ed-a65f-f8459124b0a7",
   "metadata": {},
   "outputs": [],
   "source": [
    "def get_population_segment(accum_market_share: float) -> str:\n",
    "    '''\n",
    "    '''\n",
    "    if accum_market_share < 2.5:\n",
    "        return 'Innovators'\n",
    "    elif accum_market_share < 16:\n",
    "        return 'Early Adopters'\n",
    "    elif accum_market_share < 50:\n",
    "        return 'Early Majority'\n",
    "    elif accum_market_share < 84:\n",
    "        return 'Late Majority'\n",
    "    elif accum_market_share <= 100:\n",
    "        return 'Laggards'"
   ]
  },
  {
   "cell_type": "markdown",
   "id": "13654d4f-c890-444d-be40-7dcb863b5d00",
   "metadata": {},
   "source": [
    "Next, we simply have to filter the region to 'World', get the last value, and use the function to return the current stage."
   ]
  },
  {
   "cell_type": "code",
   "execution_count": 13,
   "id": "d9078e53-d1de-48ee-9f47-ed5d549878d3",
   "metadata": {},
   "outputs": [
    {
     "name": "stdout",
     "output_type": "stream",
     "text": [
      "Answer to question #1: We are currently in the Early Adopters stage with 9.76% of car sales being electric.\n"
     ]
    }
   ],
   "source": [
    "# Filter df to get current_ev_sales_share\n",
    "current_ev_sales_share = df[df['region'] == 'World']['ev_sales_share'].tail(1).iloc[0]\n",
    "\n",
    "print('Answer to question #1: We are currently in the {} stage with {}% of car sales being electric.'.format(get_population_segment(current_ev_sales_share),current_ev_sales_share.round(2)))"
   ]
  },
  {
   "cell_type": "markdown",
   "id": "37d7b591-4f33-4e3f-b17c-5493cfd270a6",
   "metadata": {},
   "source": [
    "# 4 Question #2 - Leading countries in EV sales"
   ]
  },
  {
   "cell_type": "code",
   "execution_count": 14,
   "id": "965cf627-2d98-4053-a4bb-613fd84cd800",
   "metadata": {},
   "outputs": [
    {
     "data": {
      "text/html": [
       "<div>\n",
       "<style scoped>\n",
       "    .dataframe tbody tr th:only-of-type {\n",
       "        vertical-align: middle;\n",
       "    }\n",
       "\n",
       "    .dataframe tbody tr th {\n",
       "        vertical-align: top;\n",
       "    }\n",
       "\n",
       "    .dataframe thead th {\n",
       "        text-align: right;\n",
       "    }\n",
       "</style>\n",
       "<table border=\"1\" class=\"dataframe\">\n",
       "  <thead>\n",
       "    <tr style=\"text-align: right;\">\n",
       "      <th></th>\n",
       "      <th>region</th>\n",
       "      <th>ev_sales</th>\n",
       "      <th>ev_sales_share</th>\n",
       "      <th>ev_sales_rank</th>\n",
       "      <th>ev_sales_country_share</th>\n",
       "    </tr>\n",
       "  </thead>\n",
       "  <tbody>\n",
       "    <tr>\n",
       "      <th>82</th>\n",
       "      <td>China</td>\n",
       "      <td>4400000</td>\n",
       "      <td>5.88235</td>\n",
       "      <td>1</td>\n",
       "      <td>60.273973</td>\n",
       "    </tr>\n",
       "    <tr>\n",
       "      <th>416</th>\n",
       "      <td>USA</td>\n",
       "      <td>800000</td>\n",
       "      <td>1.06952</td>\n",
       "      <td>2</td>\n",
       "      <td>10.958904</td>\n",
       "    </tr>\n",
       "    <tr>\n",
       "      <th>158</th>\n",
       "      <td>Germany</td>\n",
       "      <td>470000</td>\n",
       "      <td>0.62834</td>\n",
       "      <td>3</td>\n",
       "      <td>6.438356</td>\n",
       "    </tr>\n",
       "    <tr>\n",
       "      <th>429</th>\n",
       "      <td>United Kingdom</td>\n",
       "      <td>270000</td>\n",
       "      <td>0.36096</td>\n",
       "      <td>4</td>\n",
       "      <td>3.698630</td>\n",
       "    </tr>\n",
       "    <tr>\n",
       "      <th>145</th>\n",
       "      <td>France</td>\n",
       "      <td>210000</td>\n",
       "      <td>0.28075</td>\n",
       "      <td>5</td>\n",
       "      <td>2.876712</td>\n",
       "    </tr>\n",
       "    <tr>\n",
       "      <th>294</th>\n",
       "      <td>Norway</td>\n",
       "      <td>150000</td>\n",
       "      <td>0.20053</td>\n",
       "      <td>6</td>\n",
       "      <td>2.054795</td>\n",
       "    </tr>\n",
       "    <tr>\n",
       "      <th>243</th>\n",
       "      <td>Korea</td>\n",
       "      <td>120000</td>\n",
       "      <td>0.16043</td>\n",
       "      <td>7</td>\n",
       "      <td>1.643836</td>\n",
       "    </tr>\n",
       "    <tr>\n",
       "      <th>381</th>\n",
       "      <td>Sweden</td>\n",
       "      <td>96000</td>\n",
       "      <td>0.12834</td>\n",
       "      <td>8</td>\n",
       "      <td>1.315068</td>\n",
       "    </tr>\n",
       "    <tr>\n",
       "      <th>57</th>\n",
       "      <td>Canada</td>\n",
       "      <td>85000</td>\n",
       "      <td>0.11364</td>\n",
       "      <td>9</td>\n",
       "      <td>1.164384</td>\n",
       "    </tr>\n",
       "    <tr>\n",
       "      <th>268</th>\n",
       "      <td>Netherlands</td>\n",
       "      <td>73000</td>\n",
       "      <td>0.09759</td>\n",
       "      <td>10</td>\n",
       "      <td>1.000000</td>\n",
       "    </tr>\n",
       "  </tbody>\n",
       "</table>\n",
       "</div>"
      ],
      "text/plain": [
       "             region  ev_sales  ev_sales_share  ev_sales_rank  \\\n",
       "82            China   4400000         5.88235              1   \n",
       "416             USA    800000         1.06952              2   \n",
       "158         Germany    470000         0.62834              3   \n",
       "429  United Kingdom    270000         0.36096              4   \n",
       "145          France    210000         0.28075              5   \n",
       "294          Norway    150000         0.20053              6   \n",
       "243           Korea    120000         0.16043              7   \n",
       "381          Sweden     96000         0.12834              8   \n",
       "57           Canada     85000         0.11364              9   \n",
       "268     Netherlands     73000         0.09759             10   \n",
       "\n",
       "     ev_sales_country_share  \n",
       "82                60.273973  \n",
       "416               10.958904  \n",
       "158                6.438356  \n",
       "429                3.698630  \n",
       "145                2.876712  \n",
       "294                2.054795  \n",
       "243                1.643836  \n",
       "381                1.315068  \n",
       "57                 1.164384  \n",
       "268                1.000000  "
      ]
     },
     "execution_count": 14,
     "metadata": {},
     "output_type": "execute_result"
    }
   ],
   "source": [
    "# List regions that are not countries to filter them out\n",
    "exclude_regions = ['World','Europe','EU27','Other Europe','Rest of the world']\n",
    "\n",
    "# Filter df to get rank of countries\n",
    "sales_country_rank = df[(df['year']==2022) & (~df['region'].isin(exclude_regions))][['region','ev_sales','ev_sales_share']].sort_values('ev_sales_share', ascending = False)\n",
    "\n",
    "# Create rank column\n",
    "sales_country_rank['ev_sales_rank'] = sales_country_rank.reset_index().index + 1\n",
    "\n",
    "# Get EV global sales for 2022\n",
    "current_world_sales = df[df['region'] == 'World']['ev_sales'].tail(1).iloc[0]\n",
    "\n",
    "# Create calculated column with share of ev cars sold over total ev sales by country\n",
    "sales_country_rank['ev_sales_country_share'] = (sales_country_rank['ev_sales'] / current_world_sales) * 100\n",
    "\n",
    "# Show top 10 countries\n",
    "sales_country_rank.head(10)"
   ]
  },
  {
   "cell_type": "markdown",
   "id": "d18e0ed6-b29a-452c-b5b4-2aa3468dd2bf",
   "metadata": {},
   "source": [
    "# 5 Question #3 - Leading countries in EV sales growth"
   ]
  },
  {
   "cell_type": "code",
   "execution_count": 15,
   "id": "00c4d331-bc4a-40dd-ba60-02dbf3f90100",
   "metadata": {},
   "outputs": [
    {
     "data": {
      "text/html": [
       "<div>\n",
       "<style scoped>\n",
       "    .dataframe tbody tr th:only-of-type {\n",
       "        vertical-align: middle;\n",
       "    }\n",
       "\n",
       "    .dataframe tbody tr th {\n",
       "        vertical-align: top;\n",
       "    }\n",
       "\n",
       "    .dataframe thead th {\n",
       "        text-align: right;\n",
       "    }\n",
       "</style>\n",
       "<table border=\"1\" class=\"dataframe\">\n",
       "  <thead>\n",
       "    <tr style=\"text-align: right;\">\n",
       "      <th></th>\n",
       "      <th>region</th>\n",
       "      <th>year</th>\n",
       "      <th>ev_sales</th>\n",
       "      <th>global_car_sales</th>\n",
       "      <th>ev_sales_share</th>\n",
       "      <th>ev_sales_share_change</th>\n",
       "      <th>ev_sales_share_growth</th>\n",
       "      <th>ev_sales_growth</th>\n",
       "      <th>rank</th>\n",
       "    </tr>\n",
       "  </thead>\n",
       "  <tbody>\n",
       "    <tr>\n",
       "      <th>192</th>\n",
       "      <td>India</td>\n",
       "      <td>2022</td>\n",
       "      <td>48000</td>\n",
       "      <td>74800000</td>\n",
       "      <td>0.06417</td>\n",
       "      <td>0.04815</td>\n",
       "      <td>300.561798</td>\n",
       "      <td>300.000000</td>\n",
       "      <td>1</td>\n",
       "    </tr>\n",
       "    <tr>\n",
       "      <th>69</th>\n",
       "      <td>Chile</td>\n",
       "      <td>2022</td>\n",
       "      <td>880</td>\n",
       "      <td>74800000</td>\n",
       "      <td>0.00118</td>\n",
       "      <td>0.00082</td>\n",
       "      <td>227.777778</td>\n",
       "      <td>225.925926</td>\n",
       "      <td>2</td>\n",
       "    </tr>\n",
       "    <tr>\n",
       "      <th>45</th>\n",
       "      <td>Brazil</td>\n",
       "      <td>2022</td>\n",
       "      <td>8500</td>\n",
       "      <td>74800000</td>\n",
       "      <td>0.01136</td>\n",
       "      <td>0.00749</td>\n",
       "      <td>193.540052</td>\n",
       "      <td>193.103448</td>\n",
       "      <td>3</td>\n",
       "    </tr>\n",
       "    <tr>\n",
       "      <th>281</th>\n",
       "      <td>New Zealand</td>\n",
       "      <td>2022</td>\n",
       "      <td>19000</td>\n",
       "      <td>74800000</td>\n",
       "      <td>0.02540</td>\n",
       "      <td>0.01632</td>\n",
       "      <td>179.735683</td>\n",
       "      <td>179.411765</td>\n",
       "      <td>4</td>\n",
       "    </tr>\n",
       "    <tr>\n",
       "      <th>230</th>\n",
       "      <td>Japan</td>\n",
       "      <td>2022</td>\n",
       "      <td>61000</td>\n",
       "      <td>74800000</td>\n",
       "      <td>0.08155</td>\n",
       "      <td>0.05218</td>\n",
       "      <td>177.664283</td>\n",
       "      <td>177.272727</td>\n",
       "      <td>5</td>\n",
       "    </tr>\n",
       "    <tr>\n",
       "      <th>204</th>\n",
       "      <td>Israel</td>\n",
       "      <td>2022</td>\n",
       "      <td>27000</td>\n",
       "      <td>74800000</td>\n",
       "      <td>0.03610</td>\n",
       "      <td>0.02141</td>\n",
       "      <td>145.745405</td>\n",
       "      <td>145.454545</td>\n",
       "      <td>6</td>\n",
       "    </tr>\n",
       "    <tr>\n",
       "      <th>403</th>\n",
       "      <td>Turkiye</td>\n",
       "      <td>2022</td>\n",
       "      <td>7000</td>\n",
       "      <td>74800000</td>\n",
       "      <td>0.00936</td>\n",
       "      <td>0.00535</td>\n",
       "      <td>133.416459</td>\n",
       "      <td>133.333333</td>\n",
       "      <td>7</td>\n",
       "    </tr>\n",
       "    <tr>\n",
       "      <th>355</th>\n",
       "      <td>South Africa</td>\n",
       "      <td>2022</td>\n",
       "      <td>500</td>\n",
       "      <td>74800000</td>\n",
       "      <td>0.00067</td>\n",
       "      <td>0.00038</td>\n",
       "      <td>131.034483</td>\n",
       "      <td>127.272727</td>\n",
       "      <td>8</td>\n",
       "    </tr>\n",
       "    <tr>\n",
       "      <th>320</th>\n",
       "      <td>Poland</td>\n",
       "      <td>2022</td>\n",
       "      <td>14000</td>\n",
       "      <td>74800000</td>\n",
       "      <td>0.01872</td>\n",
       "      <td>0.00911</td>\n",
       "      <td>94.797086</td>\n",
       "      <td>94.444444</td>\n",
       "      <td>9</td>\n",
       "    </tr>\n",
       "    <tr>\n",
       "      <th>11</th>\n",
       "      <td>Australia</td>\n",
       "      <td>2022</td>\n",
       "      <td>33000</td>\n",
       "      <td>74800000</td>\n",
       "      <td>0.04412</td>\n",
       "      <td>0.02142</td>\n",
       "      <td>94.361233</td>\n",
       "      <td>94.117647</td>\n",
       "      <td>10</td>\n",
       "    </tr>\n",
       "  </tbody>\n",
       "</table>\n",
       "</div>"
      ],
      "text/plain": [
       "           region  year  ev_sales  global_car_sales  ev_sales_share  \\\n",
       "192         India  2022     48000          74800000         0.06417   \n",
       "69          Chile  2022       880          74800000         0.00118   \n",
       "45         Brazil  2022      8500          74800000         0.01136   \n",
       "281   New Zealand  2022     19000          74800000         0.02540   \n",
       "230         Japan  2022     61000          74800000         0.08155   \n",
       "204        Israel  2022     27000          74800000         0.03610   \n",
       "403       Turkiye  2022      7000          74800000         0.00936   \n",
       "355  South Africa  2022       500          74800000         0.00067   \n",
       "320        Poland  2022     14000          74800000         0.01872   \n",
       "11      Australia  2022     33000          74800000         0.04412   \n",
       "\n",
       "     ev_sales_share_change  ev_sales_share_growth  ev_sales_growth  rank  \n",
       "192                0.04815             300.561798       300.000000     1  \n",
       "69                 0.00082             227.777778       225.925926     2  \n",
       "45                 0.00749             193.540052       193.103448     3  \n",
       "281                0.01632             179.735683       179.411765     4  \n",
       "230                0.05218             177.664283       177.272727     5  \n",
       "204                0.02141             145.745405       145.454545     6  \n",
       "403                0.00535             133.416459       133.333333     7  \n",
       "355                0.00038             131.034483       127.272727     8  \n",
       "320                0.00911              94.797086        94.444444     9  \n",
       "11                 0.02142              94.361233        94.117647    10  "
      ]
     },
     "execution_count": 15,
     "metadata": {},
     "output_type": "execute_result"
    }
   ],
   "source": [
    "ranking_column = 'ev_sales_share_growth'\n",
    "# years_to_average = 5 To-do?\n",
    "\n",
    "# Filter df to get rank of countries\n",
    "sales_growth_country_rank = df[(df['year']==2022) & (~df['region'].isin(exclude_regions))].sort_values(ranking_column, ascending = False)\n",
    "\n",
    "# Create rank column\n",
    "sales_growth_country_rank['rank'] = sales_growth_country_rank.reset_index().index + 1\n",
    "\n",
    "# Show top 10\n",
    "sales_growth_country_rank.head(10)"
   ]
  },
  {
   "cell_type": "markdown",
   "id": "fbc522f6-fe79-4796-9469-cdd4984a8f04",
   "metadata": {},
   "source": [
    "# 6 Question #4 - World EV adoption trend"
   ]
  },
  {
   "cell_type": "code",
   "execution_count": 43,
   "id": "6ed3b3ff-f7f0-49cd-b33a-402563aedd74",
   "metadata": {},
   "outputs": [
    {
     "data": {
      "text/plain": [
       "0     2010\n",
       "1     2011\n",
       "2     2012\n",
       "3     2013\n",
       "4     2014\n",
       "5     2015\n",
       "6     2016\n",
       "7     2017\n",
       "8     2018\n",
       "9     2019\n",
       "10    2020\n",
       "11    2021\n",
       "12    2022\n",
       "Name: year, dtype: int64"
      ]
     },
     "metadata": {},
     "output_type": "display_data"
    },
    {
     "data": {
      "text/plain": [
       "0     0.01079\n",
       "1     0.05478\n",
       "2     0.07859\n",
       "3     0.14194\n",
       "4     0.25000\n",
       "5     0.40342\n",
       "6     0.53241\n",
       "7     0.88065\n",
       "8     1.63551\n",
       "9     1.84502\n",
       "10    2.78552\n",
       "11    6.14152\n",
       "12    9.75936\n",
       "Name: ev_sales_share, dtype: float64"
      ]
     },
     "metadata": {},
     "output_type": "display_data"
    }
   ],
   "source": [
    "world_df = df[df['region'] == 'World']\n",
    "x_data = world_df['year']\n",
    "y_data = world_df['ev_sales_share']\n",
    "display(x_data.head(30).reset_index(drop=True))\n",
    "display(y_data.head(30).reset_index(drop=True))"
   ]
  },
  {
   "cell_type": "code",
   "execution_count": 44,
   "id": "84bb3442-277b-49c7-bb89-7d17c60c9ad6",
   "metadata": {
    "scrolled": true
   },
   "outputs": [
    {
     "data": {
      "image/png": "[encoded data removed]",
      "text/plain": [
       "<Figure size 1400x400 with 2 Axes>"
      ]
     },
     "metadata": {},
     "output_type": "display_data"
    }
   ],
   "source": [
    "# Set up the figure and axes\n",
    "fig, axes = plt.subplots(nrows=1, ncols=2, figsize=(14, 4))\n",
    "\n",
    "# Plot the line plot with seaborn\n",
    "sns.lineplot(data=world_df, x='year', y='ev_sales_share', marker='o', color='skyblue', ax=axes[1])\n",
    "\n",
    "sns.barplot(data=world_df, x='year', y='ev_sales', color='lightgreen', ax=axes[0])\n",
    "\n",
    "axes[0].set_title('Normal Distribution')\n",
    "\n",
    "# Set plot title and labels\n",
    "axes[1].set_title('Line Plot')\n",
    "axes[1].set_xlabel('year')\n",
    "axes[1].set_ylabel('market share')\n",
    "\n",
    "# Show the plot\n",
    "plt.show()"
   ]
  },
  {
   "cell_type": "code",
   "execution_count": 55,
   "id": "d27157b1-d07c-4c88-8f42-5bed74fbb709",
   "metadata": {},
   "outputs": [
    {
     "name": "stdout",
     "output_type": "stream",
     "text": [
      "Best Fit:  Exponential\n"
     ]
    },
    {
     "data": {
      "image/png": "[encoded data removed]",
      "text/plain": [
       "<Figure size 640x480 with 1 Axes>"
      ]
     },
     "metadata": {},
     "output_type": "display_data"
    }
   ],
   "source": [
    "import numpy as np\n",
    "import matplotlib.pyplot as plt\n",
    "from scipy.optimize import curve_fit\n",
    "\n",
    "# Define the dataset as arrays of X and Y values\n",
    "x_data = np.array([0, 1, 2, 3, 4, 5, 6, 7, 8, 9, 10, 11, 12])\n",
    "y_data = np.array([0.01079, 0.05478, 0.07859, 0.14194, 0.25000, 0.40342, 0.53241, 0.88065, 1.63551, 1.84502, 2.78552, 6.14152, 9.75936])\n",
    "\n",
    "# Define the R-squared function\n",
    "def r_squared(y, y_pred):\n",
    "    residual = np.sum((y - y_pred) ** 2)\n",
    "    total = np.sum((y - np.mean(y)) ** 2)\n",
    "    r_sq = 1 - (residual / total)\n",
    "    return r_sq\n",
    "\n",
    "# Visualize the data and original points\n",
    "plt.scatter(x_data, y_data, label='Data Points', color='black')\n",
    "plt.xlabel('X')\n",
    "plt.ylabel('Y')\n",
    "\n",
    "# Fit a linear model to the data\n",
    "def linear_func(x, a, b):\n",
    "    return a * x + b\n",
    "\n",
    "linear_params, _ = curve_fit(linear_func, x_data, y_data)\n",
    "plt.plot(x_data, linear_func(x_data, *linear_params), 'r', label='Linear Fit')\n",
    "\n",
    "# Fit a quadratic model to the data\n",
    "def quadratic_func(x, a, b, c):\n",
    "    return a * x**2 + b * x + c\n",
    "\n",
    "quadratic_guesses = [1, 1, 1]  # Initial guesses for the quadratic fit\n",
    "quadratic_params, _ = curve_fit(quadratic_func, x_data, y_data, p0=quadratic_guesses)\n",
    "plt.plot(x_data, quadratic_func(x_data, *quadratic_params), 'g', label='Quadratic Fit')\n",
    "\n",
    "# Fit an exponential model to the data\n",
    "def exponential_func(x, a, b, c):\n",
    "    return a * np.exp(b * x) + c\n",
    "\n",
    "exponential_guesses = [2, 0.2, 2]  # Initial guesses for the exponential fit\n",
    "exponential_params, _ = curve_fit(exponential_func, x_data, y_data, p0=exponential_guesses)\n",
    "plt.plot(x_data, exponential_func(x_data, *exponential_params), 'b', label='Exponential Fit')\n",
    "\n",
    "# Print the best fit\n",
    "r_squared_values = {\n",
    "    'Linear': r_squared(y_data, linear_func(x_data, *linear_params)),\n",
    "    'Quadratic': r_squared(y_data, quadratic_func(x_data, *quadratic_params)),\n",
    "    'Exponential': r_squared(y_data, exponential_func(x_data, *exponential_params))\n",
    "}\n",
    "\n",
    "best_fit = max(r_squared_values, key=r_squared_values.get)\n",
    "print(\"Best Fit: \", best_fit)\n",
    "\n",
    "plt.legend()\n",
    "plt.show()\n",
    "\n"
   ]
  },
  {
   "cell_type": "code",
   "execution_count": 40,
   "id": "6282f23a-f6e4-4ed9-b14c-780d1361c040",
   "metadata": {},
   "outputs": [
    {
     "name": "stdout",
     "output_type": "stream",
     "text": [
      "Quadratic guesses:  [ 0.11782931 -0.81993887  0.91428407]\n",
      "Exponential guesses:  [0.01396663 0.54538719 0.11010673]\n"
     ]
    }
   ],
   "source": [
    "print(\"Quadratic guesses: \", quadratic_params)\n",
    "print(\"Exponential guesses: \", exponential_params)"
   ]
  },
  {
   "cell_type": "code",
   "execution_count": null,
   "id": "a023ea78-838b-4e27-8267-fa5762acd16b",
   "metadata": {},
   "outputs": [],
   "source": []
  },
  {
   "cell_type": "code",
   "execution_count": null,
   "id": "a99cefea-9cc7-49fb-947a-d676665a40bc",
   "metadata": {},
   "outputs": [],
   "source": [
    "# Generate random data from a normal distribution\n",
    "mu = 2028  # Mean\n",
    "sigma = 2  # Standard deviation\n",
    "n = 10000\n",
    "np.random.seed(42)  # Set the random seed for reproducibility\n",
    "data = np.random.normal(mu, sigma, n)\n",
    "\n",
    "# Create a figure with two subplots\n",
    "fig, axes = plt.subplots(nrows=1, ncols=2, figsize=(10, 5))\n",
    "sns.set_style(\"whitegrid\")\n",
    "\n",
    "# Plot the histogram of the random data\n",
    "sns.histplot(data, kde=True, ax=axes[0])\n",
    "axes[0].set_title('Normal Distribution')\n",
    "\n",
    "# Plot the CDF of the normal distribution\n",
    "x = np.linspace(mu - 2 * sigma, mu + 2 * sigma, 1000)  # Range of x values\n",
    "cdf = norm.cdf(x, mu, sigma)  # Calculate the CDF\n",
    "sns.lineplot(x=x, y=cdf, ax=axes[1])  # Pass x-axis values as x argument\n",
    "axes[1].set_title('Cumulative Distribution Function')\n",
    "\n",
    "# Display the plot\n",
    "plt.tight_layout()\n",
    "plt.show()\n"
   ]
  },
  {
   "cell_type": "markdown",
   "id": "2121ac6c-5c3d-492d-b98c-8151ad91554d",
   "metadata": {},
   "source": [
    "This project we will analyze the increasing demand of EVs and who's leading it, figure out in which stage of adoption we are and try to estimate how long will it take for the all car transportation to become electric by finding the EV adoption curve."
   ]
  },
  {
   "cell_type": "code",
   "execution_count": null,
   "id": "d298ef13-7df7-46fb-92e7-7c3d22fd5b21",
   "metadata": {},
   "outputs": [],
   "source": []
  }
 ],
 "metadata": {
  "kernelspec": {
   "display_name": "ev-adoption",
   "language": "python",
   "name": "ev-adoption"
  },
  "language_info": {
   "codemirror_mode": {
    "name": "ipython",
    "version": 3
   },
   "file_extension": ".py",
   "mimetype": "text/x-python",
   "name": "python",
   "nbconvert_exporter": "python",
   "pygments_lexer": "ipython3",
   "version": "3.10.12"
  }
 },
 "nbformat": 4,
 "nbformat_minor": 5
}
